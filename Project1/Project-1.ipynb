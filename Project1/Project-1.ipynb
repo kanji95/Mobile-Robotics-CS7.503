{
 "cells": [
  {
   "cell_type": "markdown",
   "metadata": {},
   "source": [
    "# Project 1: Pose Graph Optimization"
   ]
  },
  {
   "cell_type": "markdown",
   "metadata": {},
   "source": [
    "**Team Name**: GroveStreet\n",
    "\n",
    "**Team Members/Rollnumbers**: 2021701023"
   ]
  },
  {
   "cell_type": "markdown",
   "metadata": {},
   "source": [
    "# Submission Instructions"
   ]
  },
  {
   "cell_type": "markdown",
   "metadata": {},
   "source": [
    "1. Zip the entire folder, not just this notebook, and submit on Moodle. \n",
    "2. Be sure to solve all questions that are in this notebook"
   ]
  },
  {
   "cell_type": "markdown",
   "metadata": {},
   "source": [
    "# General Information\n",
    "1. All questions are in the `questions/` folder.\n",
    "2. Relevant information for parts of this project can be found in `examples/`"
   ]
  },
  {
   "cell_type": "markdown",
   "metadata": {},
   "source": [
    "# Introduction"
   ]
  },
  {
   "cell_type": "markdown",
   "metadata": {},
   "source": [
    "In this project, we are going to use a non-linear weighted least squares optimization approach to improve our estimate of a robot's trajectory. We focus on pose-graph optimization for 2D SLAM, and get familiar with the problem formulation, optimization, and evaluation metrics.\n",
    "\n",
    "## Recap\n",
    "\n",
    "In a 2D world, a robot has 3 degrees of freedom, i.e. its pose in the world can be expressed by the state vector $\\mathbf{x}=(x, y, \\theta)^{\\mathrm{T}}$. For the scope of this project, we are interested only in the robot's trajectory through the $2 \\mathrm{D}$ world, and NOT in distinct landmarks or the surronding map of the environment, i.e. we are only interested in \"L\"ocalization part of SLAM. \n",
    "\n",
    "Therefore, we can represent it as a graph where the vertices represent robot poses $\\mathbf{x}_{i}$ and edges represent the spatial constraints between these poses. Such a map is generally called a pose graph.\n",
    "\n",
    "Two different kinds of constraints are necessary for pose graph SLAM. The first are\n",
    "odometric constraints that connect two successive states $\\mathbf{x}_{i}$ and $\\mathbf{x}_{i+1}$ via a motion model. Furthermore, in order to perform loop closing, the robot has to recognize places it already visited before. This place recognition is also a part of the front-end and provides the second type of constraint, the loop closure constraints. These constraints connect two not necessarily successive poses $\\mathbf{x}_{i}$ and $\\mathbf{x}_{j}$.\n",
    "\n",
    "\n",
    "![SLAM-trajectory-lc.png](misc/SLAM-trajectory-lc.png)   ![SLAM-trajectory-robust.png](misc/SLAM-trajectory-robust.png) Source: [Sunderhauf 2012](https://core.ac.uk/download/pdf/89299995.pdf)\n",
    "\n",
    "You will start from the inaccurate pose graph with odometry and loop closure information and by the end of this Project, you end up with an optimized pose graph (see above images) which should look close to ground truth trajectory. You can watch [this video](https://youtu.be/saVZtgPyyJQ) to get an intuition for what we're about to do.\n"
   ]
  },
  {
   "cell_type": "markdown",
   "metadata": {},
   "source": [
    "Also, remember, you have a teammate, split the work!\n",
    "\n",
    "_Point distribution below is tentative_"
   ]
  },
  {
   "cell_type": "markdown",
   "metadata": {},
   "source": [
    "# 1. Pose Graph Optimization for 1D SLAM (20 Points)\n",
    "\n",
    "Here, you must replicate a solved example for 1D SLAM, which optimises for pose using least squares. Refer to the notebook `questions/Question 1 - 1D SLAM.ipynb` for more information. Solve the question in that notebook itself."
   ]
  },
  {
   "cell_type": "markdown",
   "metadata": {},
   "source": [
    "# 2. Pose Graph Optimization for 2D SLAM (50 Points)\n",
    "\n",
    "You are given a sample noisy trajectory that you must optimise using pose-graph optimization here. Refer to the notebook `questions/Question 2 - 2D SLAM.ipynb` for more information.\n",
    "\n",
    "Grading scheme for the question:\n",
    "1. LM implementation - 20 Points\n",
    "2. Plots and explanation - 10 Points\n",
    "3. Jacobian and Residual Calculation - 20 Points"
   ]
  },
  {
   "cell_type": "markdown",
   "metadata": {},
   "source": [
    "# 3. Trajectory Evaluation and g2o (10 Points)\n",
    "\n",
    "Evaluate the optimised trajectory using Evo and play around with the g2o tool to obtain an even better optimised trajectory in `questions/Trajectory Evaluation and g2o.ipynb`.\n",
    "- Evo: 5 Points\n",
    "- g2o: 5 Points"
   ]
  },
  {
   "cell_type": "markdown",
   "metadata": {},
   "source": [
    "# 4. General Questions (20 Points)\n",
    "\n",
    "Answer some general questions about SLAM and how it's used here. Get creative and add anything you find interesting. `questions/general.ipynb`"
   ]
  }
 ],
 "metadata": {
  "kernelspec": {
   "display_name": "Python 3",
   "language": "python",
   "name": "python3"
  },
  "language_info": {
   "codemirror_mode": {
    "name": "ipython",
    "version": 3
   },
   "file_extension": ".py",
   "mimetype": "text/x-python",
   "name": "python",
   "nbconvert_exporter": "python",
   "pygments_lexer": "ipython3",
   "version": "3.8.5"
  }
 },
 "nbformat": 4,
 "nbformat_minor": 5
}
