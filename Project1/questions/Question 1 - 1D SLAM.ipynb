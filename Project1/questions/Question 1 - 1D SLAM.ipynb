{
 "cells": [
  {
   "cell_type": "markdown",
   "metadata": {},
   "source": [
    "# Question 1:  Pose Graph Optimization for 1D SLAM"
   ]
  },
  {
   "cell_type": "markdown",
   "metadata": {},
   "source": [
    "A solved example for 1D SLAM which optimizes for pose variables using weighted least squares method (Gauss Newton) has been explained in the class. You can view it at `examples/1D-SLAM.ipynb`. Your first task is to code this from scratch.\n",
    "\n",
    "For this section, you have to calculate Jacobian analytically yourself and use it. However, you can check how correct it is using `jax`'s `jacobian`. Its usage is explained in the supplementary notebook (`examples/`)."
   ]
  },
  {
   "cell_type": "markdown",
   "metadata": {},
   "source": [
    "## How to get started?\n",
    "\n",
    "1. Go through the example and understand the optimization procedure.\n",
    "2. Generate the data as in the example.\n",
    "3. Write the derivatives of the function with respect to the constraints\n",
    "4. Create the final jacobian and write the update steps using Gauss Newton\n",
    "\n",
    "This tiny example will help make sense of the next question, as it's largely just an extension of this."
   ]
  },
  {
   "cell_type": "markdown",
   "metadata": {},
   "source": [
    "Finally, plot the loop closure constraint, poses, and error at every iteration as well. Since this is a one dimensional example, you can just assume x = y."
   ]
  },
  {
   "cell_type": "code",
   "execution_count": 1,
   "metadata": {},
   "outputs": [],
   "source": [
    "import os\n",
    "import math\n",
    "import numpy as np\n",
    "import matplotlib.pyplot as plt\n",
    "\n",
    "import jax.numpy as jnp\n",
    "from jax import jacfwd"
   ]
  },
  {
   "cell_type": "code",
   "execution_count": 2,
   "metadata": {},
   "outputs": [],
   "source": [
    "class SLAM_1D:\n",
    "    def __init__(self, motion_model, num_oc, num_lcc, max_iter=10, lr=1e-2, h=0.001):\n",
    "\n",
    "        self.motion_model = motion_model\n",
    "\n",
    "        self.num_oc = num_oc\n",
    "        self.num_lcc = num_lcc\n",
    "\n",
    "        self.max_iter = max_iter\n",
    "\n",
    "        self.lr = lr\n",
    "        self.h = h\n",
    "\n",
    "    def get_poses(self, control_inputs):\n",
    "\n",
    "        n = len(control_inputs)\n",
    "        poses = [0] * n\n",
    "\n",
    "        for i in range(1, self.num_oc + 1):\n",
    "            poses[i] = poses[i - 1] + control_inputs[i - 1]\n",
    "        return np.array(poses)\n",
    "\n",
    "    def get_residual(self, pose, contol_inputs):\n",
    "        x = pose[:]\n",
    "        u = contol_inputs[:]\n",
    "\n",
    "        f_x = []\n",
    "        for i in range(self.num_oc):\n",
    "            res = self.motion_model(x[i], u[i]) - x[i + 1]\n",
    "            f_x.append(res)\n",
    "        f_x.append(self.motion_model(x[0], u[-1]) - x[-1])\n",
    "        f_x.append(x[0] - 0)\n",
    "\n",
    "        return np.array(f_x)\n",
    "\n",
    "    def get_information_matrix(self, sigma=1e-2, lambda_=1e-2, pi=1e-3):\n",
    "        diag = [sigma] * self.num_oc + [lambda_] * self.num_lcc + [pi]\n",
    "        return np.linalg.inv(np.diag(diag))\n",
    "\n",
    "    def get_jacobian(self, pose, contol_inputs):\n",
    "        f_x = self.get_residual(pose, contol_inputs)\n",
    "\n",
    "        jacobian = []\n",
    "        for i, param in enumerate(pose):\n",
    "            pose_ = pose.copy()\n",
    "            pose_[i] += self.h\n",
    "            f_x_h = self.get_residual(pose_, contol_inputs)\n",
    "            partial_derv = (f_x_h - f_x) / self.h\n",
    "            jacobian.append(partial_derv)\n",
    "        jacobian = np.array(jacobian).T\n",
    "\n",
    "        return jacobian\n",
    "\n",
    "    def gauss_newton(self, control_inputs):\n",
    "        poses = self.get_poses(control_inputs)\n",
    "        for _ in range(self.max_iter):\n",
    "\n",
    "            f_x = self.get_residual(poses, control_inputs)\n",
    "\n",
    "            sigma = self.get_information_matrix()\n",
    "\n",
    "            J = self.get_jacobian(poses, control_inputs)\n",
    "            H = J.T @ sigma @ J\n",
    "\n",
    "            delta = np.linalg.pinv(H) @ J.T @ sigma.T @ f_x\n",
    "\n",
    "            poses = poses - self.lr * delta\n",
    "\n",
    "        return np.round(poses, 2)"
   ]
  },
  {
   "cell_type": "code",
   "execution_count": 3,
   "metadata": {},
   "outputs": [
    {
     "name": "stdout",
     "output_type": "stream",
     "text": [
      "Initial Residual\n",
      " [ 0.   0.   0.   0.  -0.5  0. ]\n",
      "Final Residual\n",
      " [ 0.1   0.09  0.1   0.1  -0.11  0.  ]\n",
      "Initial Pose\n",
      " [0.  1.1 2.1 3.2 0.5]\n",
      "Final Pose\n",
      " [0.   1.   1.91 2.91 0.11]\n"
     ]
    }
   ],
   "source": [
    "motion_model = lambda x, y: x + y\n",
    "\n",
    "num_oc = 4\n",
    "num_lcc = 1\n",
    "\n",
    "control_inputs = np.array([1.1, 1.0, 1.1, -2.7, 0.0])\n",
    "\n",
    "slam_1d = SLAM_1D(motion_model, num_oc=num_oc, num_lcc=num_lcc, lr=5e-1, max_iter=5)\n",
    "\n",
    "inital_pose = slam_1d.get_poses(control_inputs)\n",
    "initial_residual = slam_1d.get_residual(inital_pose, control_inputs)\n",
    "\n",
    "final_pose = slam_1d.gauss_newton(control_inputs)\n",
    "final_residual = slam_1d.get_residual(final_pose, control_inputs)\n",
    "\n",
    "print(\"Initial Residual\\n\", initial_residual)\n",
    "print(\"Final Residual\\n\", final_residual)\n",
    "\n",
    "print(\"Initial Pose\\n\", inital_pose)\n",
    "print(\"Final Pose\\n\", final_pose)"
   ]
  },
  {
   "cell_type": "code",
   "execution_count": 4,
   "metadata": {},
   "outputs": [
    {
     "name": "stderr",
     "output_type": "stream",
     "text": [
      "WARNING:absl:No GPU/TPU found, falling back to CPU. (Set TF_CPP_MIN_LOG_LEVEL=0 and rerun for more info.)\n"
     ]
    },
    {
     "name": "stdout",
     "output_type": "stream",
     "text": [
      "Initial Pose\n",
      " [0.  1.1 2.1 3.2 0.5]\n",
      "JAX Jacobian\n",
      " [[ 1. -1.  0.  0.  0.]\n",
      " [ 0.  1. -1.  0.  0.]\n",
      " [ 0.  0.  1. -1.  0.]\n",
      " [ 0.  0.  0.  1. -1.]\n",
      " [ 1.  0.  0.  0. -1.]\n",
      " [ 1.  0.  0.  0.  0.]]\n",
      "Numpy Jacobian\n",
      " [[ 1. -1.  0.  0.  0.]\n",
      " [ 0.  1. -1.  0.  0.]\n",
      " [ 0.  0.  1. -1.  0.]\n",
      " [ 0.  0.  0.  1. -1.]\n",
      " [ 1.  0.  0.  0. -1.]\n",
      " [ 1.  0.  0.  0.  0.]]\n"
     ]
    }
   ],
   "source": [
    "## Jacobian verification\n",
    "\n",
    "def get_residual(pose, contol_inputs):\n",
    "    x = jnp.asarray(pose[:])\n",
    "    u = jnp.asarray(contol_inputs[:])\n",
    "\n",
    "    f_x = []\n",
    "    for i in range(num_oc):\n",
    "        res = motion_model(x[i], u[i]) - x[i + 1]\n",
    "        f_x.append(res)\n",
    "    f_x.append(motion_model(x[0], u[-1]) - x[-1])\n",
    "    f_x.append(x[0] - 0)\n",
    "\n",
    "    return jnp.asarray(f_x)\n",
    "\n",
    "poses = slam_1d.get_poses(control_inputs)\n",
    "print(\"Initial Pose\\n\", poses)\n",
    "\n",
    "residual = lambda x: get_residual(x, control_inputs)\n",
    "\n",
    "J = jacfwd(residual)\n",
    "jax_jacobian = J(poses)\n",
    "print(\"JAX Jacobian\\n\", jax_jacobian)\n",
    "\n",
    "numpy_jacobian = slam_1d.get_jacobian(poses, control_inputs)\n",
    "print(\"Numpy Jacobian\\n\", numpy_jacobian)"
   ]
  },
  {
   "cell_type": "code",
   "execution_count": 6,
   "metadata": {},
   "outputs": [],
   "source": [
    "def frobNorm(P1, P2, str1=\"mat1\", str2=\"mat2\"):\n",
    "    jnp.set_printoptions(suppress=True)\n",
    "    val = jnp.linalg.norm(P1 - P2, 'fro')\n",
    "    print(f\"Frobenius norm between {str1} and {str2} is: {val}\")"
   ]
  },
  {
   "cell_type": "code",
   "execution_count": 7,
   "metadata": {},
   "outputs": [
    {
     "name": "stdout",
     "output_type": "stream",
     "text": [
      "Frobenius norm between mat1 and mat2 is: 0.0\n"
     ]
    }
   ],
   "source": [
    "frobNorm(numpy_jacobian, jax_jacobian)"
   ]
  },
  {
   "cell_type": "code",
   "execution_count": null,
   "metadata": {},
   "outputs": [],
   "source": []
  }
 ],
 "metadata": {
  "kernelspec": {
   "display_name": "Python 3",
   "language": "python",
   "name": "python3"
  },
  "language_info": {
   "codemirror_mode": {
    "name": "ipython",
    "version": 3
   },
   "file_extension": ".py",
   "mimetype": "text/x-python",
   "name": "python",
   "nbconvert_exporter": "python",
   "pygments_lexer": "ipython3",
   "version": "3.8.5"
  }
 },
 "nbformat": 4,
 "nbformat_minor": 5
}
