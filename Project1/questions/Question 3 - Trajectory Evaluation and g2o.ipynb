{
 "cells": [
  {
   "cell_type": "markdown",
   "id": "67ac0518",
   "metadata": {},
   "source": [
    "# Question 3: Trajectory Evaluation and g2o"
   ]
  },
  {
   "cell_type": "markdown",
   "id": "3c2f36d6",
   "metadata": {},
   "source": [
    "_Refer to the example notebooks for installation instructions_"
   ]
  },
  {
   "cell_type": "markdown",
   "id": "93d4e63e",
   "metadata": {},
   "source": [
    "# Evo"
   ]
  },
  {
   "cell_type": "markdown",
   "id": "a669d3d1",
   "metadata": {},
   "source": [
    "So you've implemented 2D SLAM, great! Now, what? We need a measure of how good the trajectory is. The error/loss used earlier doesn't tell us much about how the trajectory differs from the ground truth. Here, we try to do just this - compute error metrics. Rather than computing these from scratch, we will just Evo - https://github.com/MichaelGrupp/evo/."
   ]
  },
  {
   "cell_type": "markdown",
   "id": "1f2c0c14",
   "metadata": {},
   "source": [
    "Look at the absolute pose error (APE) and relative pose error (RPE). What do they capture and how are they calculated (descriptive answer)? How do these metrics differ in methodology? Can we determine if the error is more along the x/y axis?\n",
    "\n",
    "Answer the above questions and report errors for the obtained trajectory."
   ]
  },
  {
   "cell_type": "markdown",
   "id": "0890ff07",
   "metadata": {},
   "source": [
    "# Write up with plots/images"
   ]
  },
  {
   "cell_type": "markdown",
   "id": "3359907b",
   "metadata": {},
   "source": [
    "Plot of optimized trajectory and ground truth trajectory in Evo. Depending on the pose number, the error can be higher either in x-axis or in y-axis. For example, from poses 0-60, error in x-axis is higher, for poses 60-80 error in y-axis is higher."
   ]
  },
  {
   "cell_type": "markdown",
   "id": "9fc0acf0",
   "metadata": {},
   "source": [
    "<table><tr>\n",
    "    <td> <img src=\"../results/trajectory.png\" alt=\"Drawing\"/> </td>\n",
    "    <td> <img src=\"../results/xyz_view.png\" alt=\"Drawing\"  /> </td>\n",
    "    <td> <img src=\"../results/rpy_view.png\" alt=\"Drawing\"  /> </td>\n",
    "</tr></table>"
   ]
  },
  {
   "cell_type": "markdown",
   "id": "40ecc749",
   "metadata": {},
   "source": [
    "#### APE Results"
   ]
  },
  {
   "cell_type": "markdown",
   "id": "78482f36",
   "metadata": {},
   "source": [
    "APE first aligns the two trajectories and then evaluates directly the absolute pose differences. Max absolute pose is 7.883766 and min APE is 0.0. The APE rises from poses 0-35 and then from pose 85-110. Below is the table and figue which shows the metric of APE."
   ]
  },
  {
   "cell_type": "markdown",
   "id": "603a8a4c",
   "metadata": {},
   "source": [
    "<table>\n",
    "<thead>\n",
    "  <tr>\n",
    "    <th>max</th>\n",
    "    <th>mean</th>\n",
    "    <th>median</th>\n",
    "    <th>min</th>\n",
    "    <th>rmse</th>\n",
    "    <th>sse</th>\n",
    "    <th>std</th>\n",
    "  </tr>\n",
    "</thead>\n",
    "<tbody>\n",
    "  <tr>\n",
    "    <td>7.883766</td>\n",
    "    <td>4.713621</td>\n",
    "    <td>5.519299</td>\n",
    "    <td>0.000000</td>\n",
    "    <td>5.254318</td>\n",
    "    <td>3312.943032</td>\n",
    "    <td>2.321560</td>\n",
    "  </tr>\n",
    "</tbody>\n",
    "</table>\n",
    "\n",
    "<table><tr>\n",
    "    <td> <img src=\"../results/ape_plot.png\" alt=\"Drawing\"  /> </td>\n",
    "</tr></table>"
   ]
  },
  {
   "cell_type": "markdown",
   "id": "bae4b510",
   "metadata": {},
   "source": [
    "#### RPE Results"
   ]
  },
  {
   "cell_type": "markdown",
   "id": "49088b3e",
   "metadata": {},
   "source": [
    "RPE measures the difference between the estimated motion and the true motion. It is used to evaluate the drift of the visual odometry system. In this project, the difference between the estimated and true motion is max rpe = 1.116373, and min rpe = 0.056502. The maximum increase occurs at pose number 39 corresponding to loop closure constraints. Below is the table and figure which shows the metric of rpe."
   ]
  },
  {
   "cell_type": "markdown",
   "id": "a29f13e4",
   "metadata": {},
   "source": [
    "<table>\n",
    "<thead>\n",
    "  <tr>\n",
    "    <th>max</th>\n",
    "    <th>mean</th>\n",
    "    <th>median</th>\n",
    "    <th>min</th>\n",
    "    <th>rmse</th>\n",
    "    <th>sse</th>\n",
    "    <th>std</th>\n",
    "  </tr>\n",
    "</thead>\n",
    "<tbody>\n",
    "  <tr>\n",
    "    <td>1.116373</td>\n",
    "    <td>0.568122</td>\n",
    "    <td>0.604117</td>\n",
    "    <td>0.056502</td>\n",
    "    <td>0.626465</td>\n",
    "    <td>46.702612</td>\n",
    "    <td>0.264001</td>\n",
    "  </tr>\n",
    "</tbody>\n",
    "</table>\n",
    "\n",
    "<table><tr>\n",
    "    <td> <img src=\"../results/rpe_plot.png\" alt=\"Drawing\"/> </td>\n",
    "</tr></table>"
   ]
  },
  {
   "cell_type": "code",
   "execution_count": null,
   "id": "84ab1747",
   "metadata": {},
   "outputs": [],
   "source": []
  },
  {
   "cell_type": "markdown",
   "id": "bdceb7a5",
   "metadata": {},
   "source": [
    "If you're interested, play around with this tool and add any other plots that you think might be relevant/interesting."
   ]
  },
  {
   "cell_type": "markdown",
   "id": "078c64ae",
   "metadata": {},
   "source": [
    "# g2o"
   ]
  },
  {
   "cell_type": "markdown",
   "id": "23168dc7",
   "metadata": {},
   "source": [
    "Install g2o as mentioned in `examples/g2o.ipynb` and optimise `edges.txt`, the file you used earlier. Also use `g2o_viewer` and optimize `intel` (a trajectory in the Intel research lab) and `sphere`. They should look something like:\n",
    "\n",
    "\n",
    "<table><tr>\n",
    "<td> <img src=\"../misc/intel.jpg\" alt=\"Drawing\" style=\"width: 250px;\"/> </td>\n",
    "<td> <img src=\"../misc/sphere.jpg\" alt=\"Drawing\" style=\"width: 250px;\"/> </td>\n",
    "</tr></table>"
   ]
  },
  {
   "cell_type": "markdown",
   "id": "5d4fabe9",
   "metadata": {},
   "source": [
    "Write briefly about your observations and try out few options in the GUI. What do they do, how do they perform?"
   ]
  },
  {
   "cell_type": "markdown",
   "id": "528bc5ca",
   "metadata": {},
   "source": [
    "<table><tr>\n",
    "    <td> <img src=\"../results/g2o_traj.png\" alt=\"Drawing\"/> </td>\n",
    "    <td> <img src=\"../results/g2o_xyz_view.png\" alt=\"Drawing\"/> </td>\n",
    "    <td> <img src=\"../results/g2o_rpy_view.png\" alt=\"Drawing\"/> </td>\n",
    "</tr></table>"
   ]
  },
  {
   "cell_type": "markdown",
   "id": "88f210cf",
   "metadata": {},
   "source": [
    "<table><tr>\n",
    "    <td> <img src=\"../evo_intel_traj.png\" alt=\"Drawing\"/> </td>\n",
    "</tr></table>"
   ]
  },
  {
   "cell_type": "code",
   "execution_count": null,
   "id": "e1f6a980",
   "metadata": {},
   "outputs": [],
   "source": []
  }
 ],
 "metadata": {
  "kernelspec": {
   "display_name": "Python 3 (ipykernel)",
   "language": "python",
   "name": "python3"
  },
  "language_info": {
   "codemirror_mode": {
    "name": "ipython",
    "version": 3
   },
   "file_extension": ".py",
   "mimetype": "text/x-python",
   "name": "python",
   "nbconvert_exporter": "python",
   "pygments_lexer": "ipython3",
   "version": "3.8.11"
  }
 },
 "nbformat": 4,
 "nbformat_minor": 5
}
