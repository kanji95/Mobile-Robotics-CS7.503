{
 "cells": [
  {
   "cell_type": "markdown",
   "id": "exposed-little",
   "metadata": {},
   "source": [
    "# Question 3: Trajectory Evaluation and g2o"
   ]
  },
  {
   "cell_type": "markdown",
   "id": "hearing-bachelor",
   "metadata": {},
   "source": [
    "_Refer to the example notebooks for installation instructions_"
   ]
  },
  {
   "cell_type": "markdown",
   "id": "radio-atlantic",
   "metadata": {},
   "source": [
    "# Evo"
   ]
  },
  {
   "cell_type": "markdown",
   "id": "recognized-booking",
   "metadata": {},
   "source": [
    "So you've implemented 2D SLAM, great! Now, what? We need a measure of how good the trajectory is. The error/loss used earlier doesn't tell us much about how the trajectory differs from the ground truth. Here, we try to do just this - compute error metrics. Rather than computing these from scratch, we will just Evo - https://github.com/MichaelGrupp/evo/."
   ]
  },
  {
   "cell_type": "markdown",
   "id": "amino-command",
   "metadata": {},
   "source": [
    "Look at the absolute pose error (APE) and relative pose error (RPE). What do they capture and how are they calculated (descriptive answer)? How do these metrics differ in methodology? Can we determine if the error is more along the x/y axis?\n",
    "\n",
    "Answer the above questions and report errors for the obtained trajectory."
   ]
  },
  {
   "cell_type": "code",
   "execution_count": null,
   "id": "typical-brief",
   "metadata": {},
   "outputs": [],
   "source": [
    "# Write up with plots/images"
   ]
  },
  {
   "cell_type": "markdown",
   "id": "surrounded-anderson",
   "metadata": {},
   "source": [
    "If you're interested, play around with this tool and add any other plots that you think might be relevant/interesting."
   ]
  },
  {
   "cell_type": "markdown",
   "id": "exceptional-charity",
   "metadata": {},
   "source": [
    "# g2o"
   ]
  },
  {
   "cell_type": "markdown",
   "id": "presidential-hayes",
   "metadata": {},
   "source": [
    "Install g2o as mentioned in `examples/g2o.ipynb` and optimise `edges.txt`, the file you used earlier. Also use `g2o_viewer` and optimize `intel` (a trajectory in the Intel research lab) and `sphere`. They should look something like:\n",
    "\n",
    "\n",
    "<table><tr>\n",
    "<td> <img src=\"../misc/intel.jpg\" alt=\"Drawing\" style=\"width: 250px;\"/> </td>\n",
    "<td> <img src=\"../misc/sphere.jpg\" alt=\"Drawing\" style=\"width: 250px;\"/> </td>\n",
    "</tr></table>"
   ]
  },
  {
   "cell_type": "markdown",
   "id": "amino-football",
   "metadata": {},
   "source": [
    "Write briefly about your observations and try out few options in the GUI. What do they do, how do they perform?"
   ]
  },
  {
   "cell_type": "code",
   "execution_count": null,
   "id": "interstate-arizona",
   "metadata": {},
   "outputs": [],
   "source": [
    "# Your answer"
   ]
  }
 ],
 "metadata": {
  "kernelspec": {
   "display_name": "Python 3",
   "language": "python",
   "name": "python3"
  },
  "language_info": {
   "codemirror_mode": {
    "name": "ipython",
    "version": 3
   },
   "file_extension": ".py",
   "mimetype": "text/x-python",
   "name": "python",
   "nbconvert_exporter": "python",
   "pygments_lexer": "ipython3",
   "version": "3.8.5"
  }
 },
 "nbformat": 4,
 "nbformat_minor": 5
}
