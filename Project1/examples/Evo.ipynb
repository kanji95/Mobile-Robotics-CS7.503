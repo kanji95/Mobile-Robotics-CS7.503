{
 "cells": [
  {
   "cell_type": "markdown",
   "id": "stopped-cycle",
   "metadata": {},
   "source": [
    "# Evo\n",
    "\n",
    "[EVO](https://github.com/MichaelGrupp/evo/) is a SLAM evaluation based library for handling, evaluating and comparing the trajectory output of odometry and SLAM algorithms.\n",
    "\n",
    "```\n",
    "pip3 install evo --upgrade --no-binary evo\n",
    "\n",
    "```\n",
    "See [EVO](https://github.com/MichaelGrupp/evo/) for more info. EVO doesn't directly support `g2o` format. We have to first convert `g2o` to `kitti`. A small script named `g2o_to_kitti.py` which does exactly this has been provided in `misc` folder. `python input_file.g2o name_of_output_file.kitti` to convert it to `kitti` format. Ex: `python gt.g2o gt.kitti`.\n",
    "\n",
    "Now that it is in `kitti` format, run\n",
    "```\n",
    "evo_rpe kitti gt.kitti opt.kitti -v --plot --plot_mode xy\n",
    "evo_ape kitti gt.kitti opt.kitti -v --plot --plot_mode xy\n",
    "evo_traj kitti gt.kitti opt.kitti -v --plot --plot_mode xy\n",
    "```\n",
    "\n",
    "Refer to the question for more details."
   ]
  }
 ],
 "metadata": {
  "kernelspec": {
   "display_name": "Python 3",
   "language": "python",
   "name": "python3"
  },
  "language_info": {
   "codemirror_mode": {
    "name": "ipython",
    "version": 3
   },
   "file_extension": ".py",
   "mimetype": "text/x-python",
   "name": "python",
   "nbconvert_exporter": "python",
   "pygments_lexer": "ipython3",
   "version": "3.8.5"
  }
 },
 "nbformat": 4,
 "nbformat_minor": 5
}
