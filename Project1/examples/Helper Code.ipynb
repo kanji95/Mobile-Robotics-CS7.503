{
 "cells": [
  {
   "cell_type": "markdown",
   "id": "competent-warrant",
   "metadata": {},
   "source": [
    "# Plotting trajectory using matplotlib"
   ]
  },
  {
   "cell_type": "code",
   "execution_count": null,
   "id": "descending-testing",
   "metadata": {},
   "outputs": [],
   "source": [
    "def draw(X, Y, THETA):\n",
    "    ax = plt.subplot(111)\n",
    "    ax.plot(X, Y, 'ro')\n",
    "    plt.plot(X, Y, 'c-')\n",
    "\n",
    "    for i in range(len(THETA)):\n",
    "        x2 = 0.25*math.cos(THETA[i]) + X[i]\n",
    "        y2 = 0.25*math.sin(THETA[i]) + Y[i]\n",
    "        plt.plot([X[i], x2], [Y[i], y2], 'g->')\n",
    "\n",
    "    plt.show()"
   ]
  },
  {
   "cell_type": "markdown",
   "id": "smart-responsibility",
   "metadata": {},
   "source": [
    "# Use this to check if your analystic calculation of gradient is correct (compared to jax's `jacfwd`)"
   ]
  },
  {
   "cell_type": "code",
   "execution_count": null,
   "id": "elementary-livestock",
   "metadata": {},
   "outputs": [],
   "source": [
    "def frobNorm(P1, P2, str1=\"mat1\", str2=\"mat2\"):\n",
    "    jnp.set_printoptions(suppress=True)\n",
    "    val = jnp.linalg.norm(P1 - P2, 'fro')\n",
    "    print(f\"Frobenius norm between {str1} and {str2} is: {val}\")"
   ]
  }
 ],
 "metadata": {
  "kernelspec": {
   "display_name": "Python 3",
   "language": "python",
   "name": "python3"
  },
  "language_info": {
   "codemirror_mode": {
    "name": "ipython",
    "version": 3
   },
   "file_extension": ".py",
   "mimetype": "text/x-python",
   "name": "python",
   "nbconvert_exporter": "python",
   "pygments_lexer": "ipython3",
   "version": "3.8.5"
  }
 },
 "nbformat": 4,
 "nbformat_minor": 5
}
