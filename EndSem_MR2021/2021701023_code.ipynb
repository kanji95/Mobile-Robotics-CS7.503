{
 "cells": [
  {
   "cell_type": "code",
   "execution_count": 1,
   "id": "bc6fb49d",
   "metadata": {},
   "outputs": [],
   "source": [
    "import open3d\n",
    "import numpy as np\n",
    "import util\n",
    "\n",
    "import matplotlib.pyplot as plt"
   ]
  },
  {
   "cell_type": "markdown",
   "id": "e4422c5e",
   "metadata": {},
   "source": [
    "**1. Optimization**: You are given the function:  exp(-a * x) * sin(x) + b. Implement Levenberg Marquadt using numpy and solve for the parameters of the above function. Optimize for the following parameters: a=2, b = 1. Do this for 50 observations that lie between 1 and 20. Plot the loss values over time and data fit curves. Ensure that your initial estimates are not very close to the final parameters. Write down the jacobian formula in the notebook. **\\[3 points\\]**"
   ]
  },
  {
   "cell_type": "markdown",
   "id": "dd1bbedd",
   "metadata": {},
   "source": [
    "$$\n",
    "\\begin{align}\n",
    "J &= \\begin{bmatrix} -xe^{-ax}sin(x) & 0 \\\\ 0 & 1 \\\\ \\end{bmatrix}\n",
    "\\end{align}\n",
    "$$"
   ]
  },
  {
   "cell_type": "code",
   "execution_count": 2,
   "id": "aa19979a",
   "metadata": {},
   "outputs": [],
   "source": [
    "class Optimizer:\n",
    "    def __init__(\n",
    "        self,\n",
    "        func_name,\n",
    "        x_obs,\n",
    "        y_obs,\n",
    "        coeff,\n",
    "        lr=1e-2,\n",
    "        max_iter=200,\n",
    "        tol=1e-15,\n",
    "        lambda_=1.0,\n",
    "    ):\n",
    "\n",
    "        self.func_name = func_name\n",
    "        self.func = eval(func_name)\n",
    "        self.x_obs = x_obs\n",
    "        self.y_obs = y_obs\n",
    "\n",
    "        self.init_guess = coeff\n",
    "        self.coeff = coeff\n",
    "        self.num_params = len(coeff)\n",
    "\n",
    "        self.lr = lr\n",
    "        self.max_iter = max_iter\n",
    "        self.tol = tol\n",
    "\n",
    "        self.lambda_ = lambda_\n",
    "\n",
    "        self.h = 1e-4\n",
    "\n",
    "        self.loss = []\n",
    "\n",
    "        self.method = \"Levenberg Marquardt\"\n",
    "\n",
    "    def get_residual(self, coeff):\n",
    "        y_pred = self.func(self.x_obs, coeff)\n",
    "        return y_pred - self.y_obs\n",
    "\n",
    "    def get_jacobian(self):\n",
    "        r = self.get_residual(self.coeff)\n",
    "\n",
    "        jacobian = []\n",
    "        for i, param in enumerate(self.coeff):\n",
    "            coeff = self.coeff.copy()\n",
    "            coeff[i] += self.h\n",
    "            r_h = self.get_residual(coeff)\n",
    "            partial_derv = (r_h - r) / self.h\n",
    "            jacobian.append(partial_derv)\n",
    "        jacobian = np.array(jacobian).T\n",
    "\n",
    "        return jacobian\n",
    "\n",
    "    def levenberg_marquardt(self):\n",
    "        self.method = \"Levenberg Marquardt\"\n",
    "\n",
    "        prev_error = 1e9\n",
    "        for _ in range(self.max_iter):\n",
    "            J = self.get_jacobian()\n",
    "            R = self.get_residual(self.coeff)\n",
    "\n",
    "            delta = (\n",
    "                np.linalg.inv(J.T @ J + self.lambda_ * np.eye(self.num_params))\n",
    "                @ J.T\n",
    "                @ R\n",
    "            )\n",
    "\n",
    "            error = (R.T @ R) / 2\n",
    "\n",
    "            if prev_error > error:\n",
    "                self.coeff += -self.lr * delta\n",
    "                self.lambda_ *= 0.9\n",
    "            else:\n",
    "                self.lambda_ *= 1.5\n",
    "\n",
    "            loss = np.linalg.norm(R)\n",
    "            self.loss.append(loss)\n",
    "\n",
    "            if loss < self.tol:\n",
    "                return self.coeff\n",
    "        return self.coeff"
   ]
  },
  {
   "cell_type": "code",
   "execution_count": 3,
   "id": "30084c20",
   "metadata": {},
   "outputs": [],
   "source": [
    "def compute_non_linear(x, k):\n",
    "    a, b = k\n",
    "    y = np.exp(-a * x) * np.sin(x) + b\n",
    "    return y"
   ]
  },
  {
   "cell_type": "code",
   "execution_count": 4,
   "id": "ae79213f",
   "metadata": {},
   "outputs": [],
   "source": [
    "a_gt = 2\n",
    "b_gt = 1\n",
    "k_gt = np.array([a_gt, b_gt])\n",
    "\n",
    "x_obs = np.linspace(1, 20, num=50)\n",
    "y_obs = compute_non_linear(x_obs, k_gt)"
   ]
  },
  {
   "cell_type": "code",
   "execution_count": 5,
   "id": "bf0cfaa3",
   "metadata": {},
   "outputs": [
    {
     "name": "stdout",
     "output_type": "stream",
     "text": [
      "Final Gradient Descent parameters: [2.00005159 1.00000054]\n"
     ]
    }
   ],
   "source": [
    "init_coeff = np.array([10, 30.0])\n",
    "\n",
    "optimizer = Optimizer(\n",
    "    \"compute_non_linear\", x_obs, y_obs, init_coeff, \n",
    "    lr=0.09, lambda_=0.1, max_iter=200\n",
    ")\n",
    "\n",
    "## Gradeint Descent\n",
    "coeff = optimizer.levenberg_marquardt()\n",
    "print(f\"Final Gradient Descent parameters: {coeff}\")"
   ]
  },
  {
   "cell_type": "code",
   "execution_count": 6,
   "id": "1f5b31be",
   "metadata": {},
   "outputs": [
    {
     "name": "stdout",
     "output_type": "stream",
     "text": [
      "Error between predicted and actual observations: 7.814143017608493e-06\n"
     ]
    }
   ],
   "source": [
    "y_pred = compute_non_linear(x_obs, coeff)\n",
    "error = np.linalg.norm(y_pred - y_obs)\n",
    "print(f\"Error between predicted and actual observations: {error}\")"
   ]
  },
  {
   "cell_type": "code",
   "execution_count": 7,
   "id": "e680a04f",
   "metadata": {},
   "outputs": [
    {
     "data": {
      "text/plain": [
       "Text(0.5, 1.0, 'Loss Curve')"
      ]
     },
     "execution_count": 7,
     "metadata": {},
     "output_type": "execute_result"
    },
    {
     "data": {
      "image/png": "[encoded data removed]",
      "text/plain": [
       "<Figure size 432x288 with 1 Axes>"
      ]
     },
     "metadata": {
      "needs_background": "light"
     },
     "output_type": "display_data"
    }
   ],
   "source": [
    "plt.plot(optimizer.loss)\n",
    "plt.title('Loss Curve')"
   ]
  },
  {
   "cell_type": "code",
   "execution_count": 8,
   "id": "68203607",
   "metadata": {},
   "outputs": [
    {
     "data": {
      "image/png": "[encoded data removed]",
      "text/plain": [
       "<Figure size 432x288 with 1 Axes>"
      ]
     },
     "metadata": {
      "needs_background": "light"
     },
     "output_type": "display_data"
    }
   ],
   "source": [
    "plt.plot(x_obs, y_obs, '*', label='ground truth')\n",
    "plt.plot(x_obs, y_pred, '--', label='predicted')\n",
    "plt.legend()\n",
    "plt.title(\"Data Fit Curves\")\n",
    "plt.show()"
   ]
  },
  {
   "cell_type": "markdown",
   "id": "015d1801",
   "metadata": {},
   "source": [
    "**2. Linear least square**: You are given a bin file from the Kitti raw sequence. Estimate the ground plane from the given bin file. After estimating the ground plane, visualize this in open3d by drawing 200-300 points on the ground with a different color on top of the plot obtained from the LiDAR scan. Use RANSAC to estimate the ground plane. Will this work without RANSAC? Why or Why not? Write down the equation of the ground plane obtained and also mention the parameters used for doing RANSAC  **\\[6 points\\]**\n",
    "\n",
    "Expected result is displayed here:\n",
    "\n",
    "![output](./data/groundplane.png)"
   ]
  },
  {
   "cell_type": "code",
   "execution_count": 9,
   "id": "13125782",
   "metadata": {},
   "outputs": [],
   "source": [
    "def read_bin_file(file_name):\n",
    "    \"\"\"\n",
    "    Read the bin file\n",
    "    \"\"\"\n",
    "    points = np.fromfile(file_name, dtype=np.float32).reshape(-1, 4)\n",
    "    points = points[:, :3]  # exclude reflectance values, becomes [X Y Z]\n",
    "    points = points[1::5, :]  # remove every 5th point for display speed (optional)\n",
    "    return points"
   ]
  },
  {
   "cell_type": "code",
   "execution_count": 10,
   "id": "ec98e64a",
   "metadata": {},
   "outputs": [],
   "source": [
    "filename = \"./data/000013.bin\"\n",
    "points = read_bin_file(filename)\n",
    "\n",
    "# Function used to visualize point clouds,\n",
    "# takes a list of 3 x N numpy array as input and plots\n",
    "util.visualize_pointclouds([points.T])"
   ]
  },
  {
   "cell_type": "code",
   "execution_count": 11,
   "id": "7e5579b3",
   "metadata": {},
   "outputs": [
    {
     "data": {
      "text/plain": [
       "(24556, 3)"
      ]
     },
     "execution_count": 11,
     "metadata": {},
     "output_type": "execute_result"
    }
   ],
   "source": [
    "points.shape"
   ]
  },
  {
   "cell_type": "code",
   "execution_count": 12,
   "id": "0250bb24",
   "metadata": {},
   "outputs": [],
   "source": [
    "def ransac(data, min_points=3, max_iter=500, threshold=0.9, required_points=1000):\n",
    "    n = data.shape[0]\n",
    "    itr = 0\n",
    "    best_err = 1e9\n",
    "    best_params = None\n",
    "    ground_points = []\n",
    "\n",
    "    while itr < max_iter:\n",
    "        rand_indices = np.random.choice(data.shape[0], min_points)\n",
    "        rand_points = data[rand_indices]\n",
    "\n",
    "        b = rand_points[:, 2]\n",
    "\n",
    "        estimated_params = np.linalg.pinv(np.delete(rand_points, 2, 1)) @ b\n",
    "\n",
    "        plane_points = []\n",
    "        remaining_data = data[[i for i in range(n) if i not in rand_indices]]\n",
    "        for point in remaining_data:\n",
    "            b_hat = np.delete(point[None], 2, 1) @ estimated_params\n",
    "            if np.linalg.norm(b_hat - b) < threshold:\n",
    "                plane_points.append(point)\n",
    "        plane_points = np.array(plane_points)\n",
    "\n",
    "        if len(plane_points) > required_points:\n",
    "            combined_data = np.vstack((rand_points, plane_points))\n",
    "\n",
    "            b = combined_data[:, 2]\n",
    "\n",
    "            new_params = np.linalg.lstsq(np.delete(combined_data, 2, 1), b, rcond=None)[\n",
    "                0\n",
    "            ]\n",
    "\n",
    "            b_hat = np.delete(combined_data, 2, 1) @ new_params\n",
    "            error = np.linalg.norm(b_hat - b)\n",
    "            if error < best_err:  # and len(combined_data) > len(ground_points):\n",
    "                print(\n",
    "                    f\"Iteration {itr}: Found better params!! {error}, total_points: {combined_data.shape[0]}\"\n",
    "                )\n",
    "                best_err = error\n",
    "                best_params = new_params, b.mean()\n",
    "                # ground_points = combined_data\n",
    "        itr += 1\n",
    "\n",
    "    b = []\n",
    "    for point in data:\n",
    "        b_hat = np.delete(point[None], 2, 1) @ best_params[0]\n",
    "        if np.linalg.norm(b_hat - point[2]) < threshold:\n",
    "            ground_points.append(point)\n",
    "            b.append(point[2])\n",
    "    ground_points = np.array(ground_points)\n",
    "    b = np.array(b)\n",
    "\n",
    "    best_params = (best_params[0], b)\n",
    "\n",
    "    return best_params, ground_points[:, :-1]"
   ]
  },
  {
   "cell_type": "code",
   "execution_count": 13,
   "id": "fb459a76",
   "metadata": {},
   "outputs": [],
   "source": [
    "homo_points = np.hstack([points, np.ones((points.shape[0], 1))])"
   ]
  },
  {
   "cell_type": "code",
   "execution_count": 14,
   "id": "c0bdf413",
   "metadata": {},
   "outputs": [
    {
     "name": "stdout",
     "output_type": "stream",
     "text": [
      "Iteration 0: Found better params!! 41.990273897867624, total_points: 11287\n",
      "Iteration 21: Found better params!! 31.18941007849336, total_points: 2346\n",
      "Iteration 40: Found better params!! 17.462838955302097, total_points: 2366\n",
      "Iteration 226: Found better params!! 11.347619659732537, total_points: 1031\n",
      "Iteration 351: Found better params!! 8.073695823747432, total_points: 1386\n"
     ]
    }
   ],
   "source": [
    "model_params, ground_points = ransac(homo_points)"
   ]
  },
  {
   "cell_type": "code",
   "execution_count": 15,
   "id": "af66aba8",
   "metadata": {},
   "outputs": [],
   "source": [
    "min_pts = np.min(points, axis=0)\n",
    "max_pts = np.max(points, axis=0)"
   ]
  },
  {
   "cell_type": "code",
   "execution_count": 16,
   "id": "8ebda043",
   "metadata": {},
   "outputs": [
    {
     "data": {
      "text/plain": [
       "(0.4744095581426903, -1.6868524990941254)"
      ]
     },
     "execution_count": 16,
     "metadata": {},
     "output_type": "execute_result"
    }
   ],
   "source": [
    "B = model_params[1]\n",
    "B.std(), B.mean()"
   ]
  },
  {
   "cell_type": "code",
   "execution_count": 17,
   "id": "3baecd29",
   "metadata": {},
   "outputs": [],
   "source": [
    "x_range = np.linspace(min_pts[0], max_pts[0], 20)\n",
    "y_range = np.linspace(min_pts[1], max_pts[1], 20)\n",
    "\n",
    "X, Y = np.meshgrid(x_range, y_range, sparse=False)\n",
    "\n",
    "a, b, c = model_params[0]\n",
    "\n",
    "Z = a * X + b * Y + c\n",
    "\n",
    "X_flatten = X.flatten()\n",
    "Y_flatten = Y.flatten()\n",
    "Z_flatten = Z.flatten()\n",
    "\n",
    "plane_pts = np.vstack((X_flatten, Y_flatten, Z_flatten))"
   ]
  },
  {
   "cell_type": "code",
   "execution_count": 18,
   "id": "5513ed18",
   "metadata": {},
   "outputs": [],
   "source": [
    "util.visualize_pointclouds([points.T, plane_pts, ground_points.T])"
   ]
  },
  {
   "cell_type": "code",
   "execution_count": 19,
   "id": "1cdf7434",
   "metadata": {},
   "outputs": [
    {
     "name": "stdout",
     "output_type": "stream",
     "text": [
      "Equation of Plane is: 0.021x + 0.019y + -1.716 = z\n"
     ]
    }
   ],
   "source": [
    "print(f'Equation of Plane is: {a:.3f}x + {b:.3f}y + {c:.3f} = z')"
   ]
  },
  {
   "cell_type": "markdown",
   "id": "78853197",
   "metadata": {},
   "source": [
    "Yes, this will work without RANSAC. A simple Least Squares Formulation will also yield the best fitting plane. The equation of ground truth plane obtained is $~0.021x - 0.019y - 1.716 = z$. Parameters used for RANSAC are min_points (minimum points to estimate plane parameters), threshold (to determine data points that are lying near plane), required_points (number of close data points required to verify that plane fits well to data)."
   ]
  },
  {
   "cell_type": "markdown",
   "id": "c09bd176",
   "metadata": {},
   "source": [
    "![](./gt_plane_pcd.png)"
   ]
  },
  {
   "cell_type": "code",
   "execution_count": null,
   "id": "1854ebda",
   "metadata": {},
   "outputs": [],
   "source": []
  }
 ],
 "metadata": {
  "kernelspec": {
   "display_name": "Python 3 (ipykernel)",
   "language": "python",
   "name": "python3"
  },
  "language_info": {
   "codemirror_mode": {
    "name": "ipython",
    "version": 3
   },
   "file_extension": ".py",
   "mimetype": "text/x-python",
   "name": "python",
   "nbconvert_exporter": "python",
   "pygments_lexer": "ipython3",
   "version": "3.8.11"
  }
 },
 "nbformat": 4,
 "nbformat_minor": 5
}
