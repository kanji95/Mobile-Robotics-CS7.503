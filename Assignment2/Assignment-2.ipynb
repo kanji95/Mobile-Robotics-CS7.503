{
 "cells": [
  {
   "cell_type": "markdown",
   "id": "8871e117",
   "metadata": {},
   "source": [
    "# Assignment - 2: Data Representation and Point Cloud Operations\n",
    "\n",
    "Team Name: \\<team name here\\> \n",
    "\n",
    "Roll number: \\<Roll number here (in sorted order)\\>"
   ]
  },
  {
   "cell_type": "markdown",
   "id": "9bf2a150",
   "metadata": {},
   "source": [
    "# Instructions\n",
    "\n",
    "- Code must be written in Python in Jupyter Notebooks. We highly recommend using anaconda distribution or at the minimum, virtual environments for this assignment.\n",
    "- Save all your results in ```results/<question_number>/<sub_topic_number>/```\n",
    "- The **References** section provides you with important resources to solve the assignment.\n",
    "- Make sure your code is modular since you may need to reuse parts for future assignments.\n",
    "- Answer the descriptive questions in your own words with context & clarity. Do not copy answers from online resources or lecture notes.\n",
    "- The **deadline** for this assignment is on 26/09/2021 at 11:55pm. Please note that there will be no extensions.\n",
    "- Plagiarism is **strictly prohibited**."
   ]
  },
  {
   "cell_type": "markdown",
   "id": "ff155e79",
   "metadata": {},
   "source": [
    "# Submission Instructions\n",
    "\n",
    "1. Make sure your code runs without any errors after reinitializing the kernel and removing all saved variables.\n",
    "2. After completing your code and saving your results, zip the folder with name as ``Team_<team_name>_MR2021_Assignment_<assignment_number>.zip``"
   ]
  },
  {
   "cell_type": "code",
   "execution_count": 14,
   "id": "5b5ed58a",
   "metadata": {},
   "outputs": [],
   "source": [
    "import time\n",
    "import numpy as np\n",
    "import matplotlib.pyplot as plt\n",
    "from matplotlib import cm\n",
    "\n",
    "import cv2\n",
    "import open3d as o3d\n",
    "from glob import glob"
   ]
  },
  {
   "cell_type": "markdown",
   "id": "e567d5d7",
   "metadata": {},
   "source": [
    "# Introduction to types of Transformations and Homogeneous coordinates\n",
    "\n",
    "In robotics applications, it is inevitable to keep track of the frames of multiple objects/worlds. These frames can be transformations from one coordinate frame to the other. **Homogeneous coordinates** help in keeping track of various coordinate frames and allow performing composition of various transforms. We will first try to understand between types of transformations and their invariant properties.\n",
    "1. What is the difference between Affine, Similarity, and Euclidean transform? What are the invariant properities of each type of transform?\n",
    "2. Watch this [video](https://www.youtube.com/watch?v=PvEl63t-opM) to briefly understand homogeneous coordinates. What are points at infinity? What type of transformation can you apply to transform a point from infinity to a point that is not at infinity? \n",
    "3. Using homogeneous coordinates we can represent different types of transformation as point transforms vs. frame transforms. Concatenation of transforms (whether you post multiply transformation matrices or pre-multiply transformation matrices) depends on the problem and how you are viewing it. Try to understand the difference between frame vs. point transformations from this [video](https://youtu.be/Za7Sdegf8m8?t=1834). Let's assume that our camera and world frames are coinciding with each other. We need to estimate the camera to world **frame** transformation matrix after applying the transformations defined below in terms of $T_i$.We apply **frame** transform to move the camera in the world in the following order:\n",
    "    1. $T_1$ from the camera coordinate frame.\n",
    "    2. $T_2$ from the world coordinate frame.\n",
    "    3. $T_3$ from the world coordinate frame.\n",
    "    4. $T_4$ from the camera coordinate frame.\n",
    "    5. $T_5$ from the camera coordinate frame.\n"
   ]
  },
  {
   "cell_type": "markdown",
   "id": "b39a6503",
   "metadata": {},
   "source": [
    "<font color='blue' size=4.0/> 1) What is the difference between Affine, Similarity, and Euclidean transform? What are the invariant properities of each type of transform?"
   ]
  },
  {
   "cell_type": "markdown",
   "id": "2022e7a1",
   "metadata": {},
   "source": [
    "* **Affine Transformations** are of the form $f(x) = Ax + b$, where $A \\in \\mathbb R^{m \\times n}$, $b \\in \\mathbb R^{m}$ for $x \\in \\mathbb R^{n}$. $A$ is a linear transformation matrix and $b$ represents the translation vector. Affine transformation preserve the collinearity of points, parallel lines, convexity of sets and ratio of length of parallel line segments. Scaling, Rotation, Translation, Reflection and Shear can all be derived from Affine transformation.\n",
    "* **Similarity Transformations** have two forms, one for points and another one for frames. \n",
    "    * For points, we have $f(x) = rAx + t$, where $A$ is $n \\times n$ orthogonal matrix, $r$ is a scalar, $t \\in \\mathbb R^{n}$ is translation vector and $x \\in \\mathbb R^{n}$. This is a special case of Affine transformation as matrix $A$ is constrained to be orthogonal to represent rotations. Here, points undergo translation, rotation and scaling. Shapes are preserved under similarity transformation for points.\n",
    "    * For frames, we have $B = RAR^{-1}$, with $A,B,R \\in \\mathbb R^{n \\times n}$. For our purpose, $n=3$, $A$ is linear transformation in Frame-$0$, $R$ is coordinate transform of Frame-$1$ w.r.t. Frame-$0$ and $B$ is the same linear transformation as $A$ in Frame-$1$. Under this definition, the eigenvalues of $A$ and $B$ are preserved.\n",
    "* **Eucledian Transformation** has the form $f(x) = Rx + t$, here $R \\in \\mathbb R^{3 \\times 3}$ is orthogonal matrix and $t \\in \\mathbb R^3$ is translation vector. They are special cases of affine transformation and similarity transformation (with $r=1$). This transformation preserves the shape, size and distance between points."
   ]
  },
  {
   "cell_type": "markdown",
   "id": "a58d7f25",
   "metadata": {},
   "source": [
    "<font color='blue' size=4.0/> 2) Watch this video to briefly understand homogeneous coordinates. What are points at infinity? What type of transformation can you apply to transform a point from infinity to a point that is not at infinity?"
   ]
  },
  {
   "cell_type": "markdown",
   "id": "6c3a59eb",
   "metadata": {},
   "source": [
    "Points at infinity are the points which are very far from the camera. They can be transformerd to points not at infinity by setting the last coordinate in homogenous coordinates to 0."
   ]
  },
  {
   "cell_type": "markdown",
   "id": "c41c227b",
   "metadata": {},
   "source": [
    "<font color='blue' size=4.0/> 3) Estimate the camera to world frame transformation matrix "
   ]
  },
  {
   "cell_type": "markdown",
   "id": "6202486b",
   "metadata": {},
   "source": [
    "Transformation about current frame is represented by post-multiplication, whereas transformation about fixed frame is represented by pre-multiplication. Following are the transformation matrices after each step.\n",
    "- A:  $T_{i}T_1$\n",
    "- B:  $T_{2}T_{i}T_{1}$\n",
    "- C:  $T_{3}T_{2}T_{i}T_{1}$\n",
    "- D:  $T_{3}T_{2}T_{i}T_{1}T_{4}$\n",
    "- E:  $T_{3}T_{2}T_{i}T_{1}T_{4}T_{5}$\n",
    "\n",
    "Final transformation matrix is $T_{3}T_{2}T_{i}T_{1}T_{4}T_{5}$"
   ]
  },
  {
   "cell_type": "markdown",
   "id": "d0596254",
   "metadata": {},
   "source": [
    "# Visualise the Data\n",
    "\n",
    "Point clouds are a collection of points that represent a 3D shape or feature. Each point has its own set of X, Y and Z coordinates and in some cases additional attributes. A popular way to obtain this is by photogrammetry, though here we will use LiDAR data.\n",
    "\n",
    "LiDAR is a remote sensing process which collects measurements used to create 3D models and maps of objects and environments. Using ultraviolet, visible, or near-infrared light, LiDAR gauges spatial relationships and shapes by measuring the time it takes for signals to bounce off objects and return to the scanner.\n",
    "\n",
    "1. Download the data from [here](https://iiitaphyd-my.sharepoint.com/:f:/g/personal/venkata_surya_students_iiit_ac_in/EnYAMaTVIhJItzKYqtahE30BRKB6p6UfHN3TyJzvo6Mw0g?e=PegWds). It contains the LIDAR sensor output and odometry information per frame.\n",
    "\n",
    "    The .bin files contain the 3D point cloud captured by the LIDAR in this format - x, y, z, and reflectance. \n",
    "\n",
    "    The odometry information is given in the `odometry.txt` file, which is a 12 element vector. Reshape each of the first 77 rows to a 3x4 matrix to obtain the pose.\n",
    "    \n",
    "\n",
    "2. Obtain the point cloud from this and visualise for 1-2 frames."
   ]
  },
  {
   "cell_type": "code",
   "execution_count": 59,
   "id": "52a67ab2",
   "metadata": {},
   "outputs": [],
   "source": [
    "odometry = np.loadtxt(\"./data/odometry.txt\", delimiter=' ')\n",
    "odometry = odometry[:77].reshape(77, 3, 4)\n",
    "\n",
    "bin_files = glob(\"./data/LiDAR/*\")\n",
    "bin_files.sort()\n",
    "\n",
    "no_frames = len(bin_files)"
   ]
  },
  {
   "cell_type": "code",
   "execution_count": 60,
   "id": "932a8ed0",
   "metadata": {},
   "outputs": [],
   "source": [
    "# VIRIDIS = np.array(cm.get_cmap('plasma').colors)\n",
    "# VID_RANGE = np.linspace(0.0, 1.0, VIRIDIS.shape[0])\n",
    "# print(VIRIDIS.shape, VID_RANGE.shape)"
   ]
  },
  {
   "cell_type": "code",
   "execution_count": 61,
   "id": "a9e7ab6c",
   "metadata": {},
   "outputs": [],
   "source": [
    "# pcd = np.fromfile(bin_files[0], dtype=np.float32)\n",
    "# pcd = pcd.reshape(-1, 4)\n",
    "\n",
    "# points = pcd[:, :-1]\n",
    "# points[:, :1] = -points[:, :1]\n",
    "\n",
    "# intensity = pcd[:, -1]\n",
    "# intensity_col = 1.0 - np.log(intensity+0.01) / np.log(np.exp(-0.004 * 100))\n",
    "# int_color = np.c_[\n",
    "#     np.interp(intensity_col, VID_RANGE, VIRIDIS[:, 0]),\n",
    "#     np.interp(intensity_col, VID_RANGE, VIRIDIS[:, 1]),\n",
    "#     np.interp(intensity_col, VID_RANGE, VIRIDIS[:, 2])]\n",
    "\n",
    "# point_cloud = o3d.geometry.PointCloud()\n",
    "# point_cloud.points = o3d.utility.Vector3dVector(points)\n",
    "# point_cloud.colors = o3d.utility.Vector3dVector(int_color)\n",
    "\n",
    "\n",
    "# axis = o3d.geometry.LineSet()\n",
    "# axis.points = o3d.utility.Vector3dVector(np.array([\n",
    "#     [0.0, 0.0, 0.0],\n",
    "#     [1.0, 0.0, 0.0],\n",
    "#     [0.0, 1.0, 0.0],\n",
    "#     [0.0, 0.0, 1.0]]))\n",
    "# axis.lines = o3d.utility.Vector2iVector(np.array([\n",
    "#     [0, 1],\n",
    "#     [0, 2],\n",
    "#     [0, 3]]))\n",
    "# axis.colors = o3d.utility.Vector3dVector(np.array([\n",
    "#     [1.0, 0.0, 0.0],\n",
    "#     [0.0, 1.0, 0.0],\n",
    "#     [0.0, 0.0, 1.0]]))\n",
    "\n",
    "# o3d.visualization.draw([point_cloud, axis])"
   ]
  },
  {
   "cell_type": "code",
   "execution_count": 63,
   "id": "07ae3e25",
   "metadata": {},
   "outputs": [
    {
     "name": "stdout",
     "output_type": "stream",
     "text": [
      "[28 62]\n"
     ]
    }
   ],
   "source": [
    "indices = np.random.choice(list(range(no_frames)), 2)\n",
    "print(indices)\n",
    "\n",
    "for index in indices:\n",
    "    pcd = np.fromfile(bin_files[index], dtype=np.float32)\n",
    "    pcd = pcd.reshape(-1, 4)\n",
    "\n",
    "    points = pcd[:, :-1]\n",
    "    points[:, :1] = -points[:, :1]\n",
    "\n",
    "    reflectance = pcd[:, -1]\n",
    "    colors = np.stack([reflectance, reflectance, reflectance], axis=1)\n",
    "\n",
    "    point_cloud = o3d.geometry.PointCloud()\n",
    "    point_cloud.points = o3d.utility.Vector3dVector(points)\n",
    "    point_cloud.colors = o3d.utility.Vector3dVector(colors)\n",
    "    \n",
    "    o3d.visualization.draw(point_cloud)\n",
    "    \n",
    "    frame_num += 1"
   ]
  },
  {
   "cell_type": "markdown",
   "id": "1e9c0ea4",
   "metadata": {},
   "source": [
    "# Transform \n",
    "\n",
    "The point cloud obtained is with respect to the LiDAR frame. The poses however, are in the camera frame. If we want to combine the point clouds from various frames, we need to bring them to the camera frame. \n",
    "\n",
    "1. Refer to the image below and apply the required transformation to the point cloud. \n",
    "\n",
    "2. Then, register all point clouds into a common reference frame and visualise it (Open3D). It is helpful to use homogeneous coordinates to keep track of the different frames.\n",
    "\n",
    "3. Write a function to transform the registered point cloud from the world to the $i^{th}$ camera frame, wherein $i$ is the input to the function.\n",
    "\n",
    "4. \\[Bonus\\] Move around in the registered point cloud using arrow keys like you would do in a game. For this you will have to regularly transform the entire registered world to your current camera frame and visualize repeatedly. You may choose to avoid visualizing points that are behind the camera in this case as they are not visible from the scene. You may also visualize points at a max depth to make the process easier.\n",
    "\n",
    "![](./img/transform.png)"
   ]
  },
  {
   "cell_type": "code",
   "execution_count": null,
   "id": "ce5e801f",
   "metadata": {},
   "outputs": [],
   "source": []
  },
  {
   "cell_type": "markdown",
   "id": "755823dc",
   "metadata": {},
   "source": [
    "# Occupancy Map"
   ]
  },
  {
   "cell_type": "markdown",
   "id": "a855dbcc",
   "metadata": {},
   "source": [
    "Occupancy grid maps are discrete fine grain grid maps. These maps can be either 2-D or 3-D. Each cell in the occupancy grid map contains information on the physical objects present in the corresponding space. Since these maps shed light on what parts of the environment are occupied, and what is not, they are really useful for path planning and navigation.\n",
    "\n",
    "Occupancy grid maps are probabilistic in nature due to noisy measurements. Each cell can have three states: Occupied, unoccupied, and unknown. For the purpose of this assignment, you can ignore the unknown and work in a binary setting where 1 is occupied and 0 is unoccupied."
   ]
  },
  {
   "cell_type": "markdown",
   "id": "74065870",
   "metadata": {},
   "source": [
    "1. The task here is to create an occupancy map for each LiDAR scan. You do not need to apply bayesian update rules here, just keep it simple. \n",
    "\n",
    "2. Now, using the *registered* point cloud, generate occupancy maps for each frame. What difference do you expect to see between the two methods?\n",
    "\n",
    "You can mark a cell as occupied based on a threshold of how many different z values are there for a particular (x,y) cell."
   ]
  },
  {
   "cell_type": "code",
   "execution_count": null,
   "id": "c4d53c0e",
   "metadata": {},
   "outputs": [],
   "source": []
  }
 ],
 "metadata": {
  "kernelspec": {
   "display_name": "Python 3 (ipykernel)",
   "language": "python",
   "name": "python3"
  },
  "language_info": {
   "codemirror_mode": {
    "name": "ipython",
    "version": 3
   },
   "file_extension": ".py",
   "mimetype": "text/x-python",
   "name": "python",
   "nbconvert_exporter": "python",
   "pygments_lexer": "ipython3",
   "version": "3.8.11"
  }
 },
 "nbformat": 4,
 "nbformat_minor": 5
}
