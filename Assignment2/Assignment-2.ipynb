{
 "cells": [
  {
   "cell_type": "markdown",
   "id": "8871e117",
   "metadata": {},
   "source": [
    "# Assignment - 2: Data Representation and Point Cloud Operations\n",
    "\n",
    "Team Name: GroveStreet\n",
    "\n",
    "Roll number: 2021701023"
   ]
  },
  {
   "cell_type": "markdown",
   "id": "9bf2a150",
   "metadata": {},
   "source": [
    "# Instructions\n",
    "\n",
    "- Code must be written in Python in Jupyter Notebooks. We highly recommend using anaconda distribution or at the minimum, virtual environments for this assignment.\n",
    "- Save all your results in ```results/<question_number>/<sub_topic_number>/```\n",
    "- The **References** section provides you with important resources to solve the assignment.\n",
    "- Make sure your code is modular since you may need to reuse parts for future assignments.\n",
    "- Answer the descriptive questions in your own words with context & clarity. Do not copy answers from online resources or lecture notes.\n",
    "- The **deadline** for this assignment is on 26/09/2021 at 11:55pm. Please note that there will be no extensions.\n",
    "- Plagiarism is **strictly prohibited**."
   ]
  },
  {
   "cell_type": "markdown",
   "id": "ff155e79",
   "metadata": {},
   "source": [
    "# Submission Instructions\n",
    "\n",
    "1. Make sure your code runs without any errors after reinitializing the kernel and removing all saved variables.\n",
    "2. After completing your code and saving your results, zip the folder with name as ``Team_<team_name>_MR2021_Assignment_<assignment_number>.zip``"
   ]
  },
  {
   "cell_type": "code",
   "execution_count": 1,
   "id": "5b5ed58a",
   "metadata": {},
   "outputs": [],
   "source": [
    "import time\n",
    "import numpy as np\n",
    "import matplotlib.pyplot as plt\n",
    "from matplotlib import cm\n",
    "\n",
    "import cv2\n",
    "import copy\n",
    "import open3d as o3d\n",
    "from glob import glob\n",
    "\n",
    "np.set_printoptions(suppress=True)"
   ]
  },
  {
   "cell_type": "markdown",
   "id": "e567d5d7",
   "metadata": {},
   "source": [
    "# Introduction to types of Transformations and Homogeneous coordinates\n",
    "\n",
    "In robotics applications, it is inevitable to keep track of the frames of multiple objects/worlds. These frames can be transformations from one coordinate frame to the other. **Homogeneous coordinates** help in keeping track of various coordinate frames and allow performing composition of various transforms. We will first try to understand between types of transformations and their invariant properties.\n",
    "1. What is the difference between Affine, Similarity, and Euclidean transform? What are the invariant properities of each type of transform?\n",
    "2. Watch this [video](https://www.youtube.com/watch?v=PvEl63t-opM) to briefly understand homogeneous coordinates. What are points at infinity? What type of transformation can you apply to transform a point from infinity to a point that is not at infinity? \n",
    "3. Using homogeneous coordinates we can represent different types of transformation as point transforms vs. frame transforms. Concatenation of transforms (whether you post multiply transformation matrices or pre-multiply transformation matrices) depends on the problem and how you are viewing it. Try to understand the difference between frame vs. point transformations from this [video](https://youtu.be/Za7Sdegf8m8?t=1834). Let's assume that our camera and world frames are coinciding with each other. We need to estimate the camera to world **frame** transformation matrix after applying the transformations defined below in terms of $T_i$.We apply **frame** transform to move the camera in the world in the following order:\n",
    "    1. $T_1$ from the camera coordinate frame.\n",
    "    2. $T_2$ from the world coordinate frame.\n",
    "    3. $T_3$ from the world coordinate frame.\n",
    "    4. $T_4$ from the camera coordinate frame.\n",
    "    5. $T_5$ from the camera coordinate frame.\n"
   ]
  },
  {
   "cell_type": "markdown",
   "id": "b39a6503",
   "metadata": {},
   "source": [
    "<font color='blue' size=4.0/> 1) What is the difference between Affine, Similarity, and Euclidean transform? What are the invariant properities of each type of transform?"
   ]
  },
  {
   "cell_type": "markdown",
   "id": "2022e7a1",
   "metadata": {},
   "source": [
    "* **Affine Transformations** are of the form $f(x) = Ax + b$, where $A \\in \\mathbb R^{m \\times n}$, $b \\in \\mathbb R^{m}$ for $x \\in \\mathbb R^{n}$. $A$ is a linear transformation matrix and $b$ represents the translation vector. Affine transformation preserve the collinearity of points, parallel lines, convexity of sets and ratio of length of parallel line segments. Scaling, Rotation, Translation, Reflection and Shear can all be derived from Affine transformation.\n",
    "* **Similarity Transformations** have two forms, one for points and another one for frames. \n",
    "    * For points, we have $f(x) = rAx + t$, where $A$ is $n \\times n$ orthogonal matrix, $r$ is a scalar, $t \\in \\mathbb R^{n}$ is translation vector and $x \\in \\mathbb R^{n}$. This is a special case of Affine transformation as matrix $A$ is constrained to be orthogonal to represent rotations. Here, points undergo translation, rotation and scaling. Shapes are preserved under similarity transformation for points.\n",
    "    * For frames, we have $B = RAR^{-1}$, with $A,B,R \\in \\mathbb R^{n \\times n}$. For our purpose, $n=3$, $A$ is linear transformation in Frame-$0$, $R$ is coordinate transform of Frame-$1$ w.r.t. Frame-$0$ and $B$ is the same linear transformation as $A$ in Frame-$1$. Under this definition, the eigenvalues of $A$ and $B$ are preserved.\n",
    "* **Eucledian Transformation** has the form $f(x) = Rx + t$, here $R \\in \\mathbb R^{3 \\times 3}$ is orthogonal matrix and $t \\in \\mathbb R^3$ is translation vector. They are special cases of affine transformation and similarity transformation (with $r=1$). This transformation preserves the shape, size and distance between points."
   ]
  },
  {
   "cell_type": "markdown",
   "id": "a58d7f25",
   "metadata": {},
   "source": [
    "<font color='blue' size=4.0/> 2) Watch this video to briefly understand homogeneous coordinates. What are points at infinity? What type of transformation can you apply to transform a point from infinity to a point that is not at infinity?"
   ]
  },
  {
   "cell_type": "markdown",
   "id": "6c3a59eb",
   "metadata": {},
   "source": [
    "Points at infinity are the points which are very far from the camera. They can be transformerd to points not at infinity by setting the last coordinate in homogenous coordinates to 0."
   ]
  },
  {
   "cell_type": "markdown",
   "id": "c41c227b",
   "metadata": {},
   "source": [
    "<font color='blue' size=4.0/> 3) Estimate the camera to world frame transformation matrix "
   ]
  },
  {
   "cell_type": "markdown",
   "id": "6202486b",
   "metadata": {},
   "source": [
    "Transformation about current frame is represented by post-multiplication, whereas transformation about fixed frame is represented by pre-multiplication. Following are the transformation matrices after each step.\n",
    "- A:  $T_{i}T_1$\n",
    "- B:  $T_{2}T_{i}T_{1}$\n",
    "- C:  $T_{3}T_{2}T_{i}T_{1}$\n",
    "- D:  $T_{3}T_{2}T_{i}T_{1}T_{4}$\n",
    "- E:  $T_{3}T_{2}T_{i}T_{1}T_{4}T_{5}$\n",
    "\n",
    "Final transformation matrix is $T_{3}T_{2}T_{i}T_{1}T_{4}T_{5}$"
   ]
  },
  {
   "cell_type": "markdown",
   "id": "d0596254",
   "metadata": {},
   "source": [
    "# Visualise the Data\n",
    "\n",
    "Point clouds are a collection of points that represent a 3D shape or feature. Each point has its own set of X, Y and Z coordinates and in some cases additional attributes. A popular way to obtain this is by photogrammetry, though here we will use LiDAR data.\n",
    "\n",
    "LiDAR is a remote sensing process which collects measurements used to create 3D models and maps of objects and environments. Using ultraviolet, visible, or near-infrared light, LiDAR gauges spatial relationships and shapes by measuring the time it takes for signals to bounce off objects and return to the scanner.\n",
    "\n",
    "1. Download the data from [here](https://iiitaphyd-my.sharepoint.com/:f:/g/personal/venkata_surya_students_iiit_ac_in/EnYAMaTVIhJItzKYqtahE30BRKB6p6UfHN3TyJzvo6Mw0g?e=PegWds). It contains the LIDAR sensor output and odometry information per frame.\n",
    "\n",
    "    The .bin files contain the 3D point cloud captured by the LIDAR in this format - x, y, z, and reflectance. \n",
    "\n",
    "    The odometry information is given in the `odometry.txt` file, which is a 12 element vector. Reshape each of the first 77 rows to a 3x4 matrix to obtain the pose.\n",
    "    \n",
    "\n",
    "2. Obtain the point cloud from this and visualise for 1-2 frames."
   ]
  },
  {
   "cell_type": "code",
   "execution_count": 2,
   "id": "52a67ab2",
   "metadata": {},
   "outputs": [],
   "source": [
    "odometry = np.loadtxt(\"./data/odometry.txt\", delimiter=' ')\n",
    "odometry = odometry[:77].reshape(77, 3, 4)\n",
    "\n",
    "bin_files = glob(\"./data/LiDAR/*\")\n",
    "bin_files.sort()\n",
    "\n",
    "total_frames = len(bin_files)"
   ]
  },
  {
   "cell_type": "code",
   "execution_count": 3,
   "id": "07ae3e25",
   "metadata": {},
   "outputs": [
    {
     "name": "stdout",
     "output_type": "stream",
     "text": [
      "[38 73]\n"
     ]
    }
   ],
   "source": [
    "indices = np.random.choice(list(range(total_frames)), 2)\n",
    "print(indices)\n",
    "\n",
    "for index in indices:\n",
    "    pcd = np.fromfile(bin_files[index], dtype=np.float32)\n",
    "    pcd = pcd.reshape(-1, 4)\n",
    "\n",
    "    points = pcd[:, :-1]\n",
    "\n",
    "    point_cloud = o3d.geometry.PointCloud()\n",
    "    point_cloud.points = o3d.utility.Vector3dVector(points)\n",
    "\n",
    "    o3d.visualization.draw_geometries([point_cloud])"
   ]
  },
  {
   "cell_type": "markdown",
   "id": "1e9c0ea4",
   "metadata": {},
   "source": [
    "# Transform \n",
    "\n",
    "The point cloud obtained is with respect to the LiDAR frame. The poses however, are in the camera frame. If we want to combine the point clouds from various frames, we need to bring them to the camera frame. \n",
    "\n",
    "1. Refer to the image below and apply the required transformation to the point cloud. \n",
    "\n",
    "2. Then, register all point clouds into a common reference frame and visualise it (Open3D). It is helpful to use homogeneous coordinates to keep track of the different frames.\n",
    "\n",
    "3. Write a function to transform the registered point cloud from the world to the $i^{th}$ camera frame, wherein $i$ is the input to the function.\n",
    "\n",
    "4. \\[Bonus\\] Move around in the registered point cloud using arrow keys like you would do in a game. For this you will have to regularly transform the entire registered world to your current camera frame and visualize repeatedly. You may choose to avoid visualizing points that are behind the camera in this case as they are not visible from the scene. You may also visualize points at a max depth to make the process easier.\n",
    "\n",
    "![](./img/transform.png)"
   ]
  },
  {
   "cell_type": "markdown",
   "id": "c8336c88",
   "metadata": {},
   "source": [
    "#### Helper Functions"
   ]
  },
  {
   "cell_type": "code",
   "execution_count": 4,
   "id": "298dc138",
   "metadata": {},
   "outputs": [],
   "source": [
    "def get_Rx(theta):\n",
    "    r_theta = np.matrix(\n",
    "        [\n",
    "            [1.0, 0.0, 0.0],\n",
    "            [0.0, np.cos(theta), -np.sin(theta)],\n",
    "            [0.0, np.sin(theta), np.cos(theta)],\n",
    "        ],\n",
    "        dtype=np.float64,\n",
    "    )\n",
    "    r_theta = np.around(r_theta, decimals=4)\n",
    "    return r_theta\n",
    "\n",
    "\n",
    "def get_Ry(theta):\n",
    "    r_theta = np.matrix(\n",
    "        [\n",
    "            [np.cos(theta), 0.0, np.sin(theta)],\n",
    "            [0.0, 1.0, 0.0],\n",
    "            [-np.sin(theta), 0.0, np.cos(theta)],\n",
    "        ],\n",
    "        dtype=np.float64,\n",
    "    )\n",
    "    r_theta = np.around(r_theta, decimals=4)\n",
    "    return r_theta\n",
    "\n",
    "\n",
    "def get_Rz(theta):\n",
    "    r_theta = np.matrix(\n",
    "        [\n",
    "            [np.cos(theta), -np.sin(theta), 0.0],\n",
    "            [np.sin(theta), np.cos(theta), 0.0],\n",
    "            [0.0, 0.0, 1.0],\n",
    "        ],\n",
    "        dtype=np.float64,\n",
    "    )\n",
    "    r_theta = np.around(r_theta, decimals=3)\n",
    "    return r_theta\n",
    "\n",
    "\n",
    "def get_T(R, t=np.array([[0.0], [0.0], [0.0]])):\n",
    "\n",
    "    return np.vstack(\n",
    "        (np.concatenate((R, t.reshape(3, 1)), axis=1), np.array([0.0, 0.0, 0.0, 1.0]))\n",
    "    )\n",
    "\n",
    "\n",
    "def homogenize(Odometery):\n",
    "    return np.vstack((Odometery, np.array([0.0, 0.0, 0.0, 1.0])))\n",
    "\n",
    "\n",
    "def inverse_T(T):\n",
    "    R = T[:-1, :-1]\n",
    "    t = T[:-1, -1]\n",
    "\n",
    "    return np.vstack(\n",
    "        (np.hstack((R.T, -R.T @ t.reshape(3, 1))), np.array([0.0, 0.0, 0.0, 1.0]))\n",
    "    )\n",
    "\n",
    "\n",
    "def inverse(R, t):\n",
    "    return get_T(R) @ get_T(np.eye(3), -t)"
   ]
  },
  {
   "cell_type": "markdown",
   "id": "fc0854c4",
   "metadata": {},
   "source": [
    "### Transformation matrix to transform LiDar (world) frame to camera frame"
   ]
  },
  {
   "cell_type": "code",
   "execution_count": 5,
   "id": "e4169a8b",
   "metadata": {},
   "outputs": [
    {
     "name": "stdout",
     "output_type": "stream",
     "text": [
      "[[ 0. -1.  0.  0.]\n",
      " [ 0.  0. -1.  0.]\n",
      " [ 1.  0.  0.  0.]\n",
      " [ 0.  0.  0.  1.]]\n"
     ]
    }
   ],
   "source": [
    "R_cw = get_Rx(np.pi / 2) @ get_Rz(np.pi / 2)\n",
    "T_cw = get_T(R_cw)\n",
    "\n",
    "print(T_cw)"
   ]
  },
  {
   "cell_type": "markdown",
   "id": "f6b159b6",
   "metadata": {},
   "source": [
    "### Register all point clouds into a common reference frame and visualise it"
   ]
  },
  {
   "cell_type": "code",
   "execution_count": 6,
   "id": "4422fa23",
   "metadata": {},
   "outputs": [],
   "source": [
    "pcd_list = o3d.geometry.PointCloud()\n",
    "\n",
    "for index in range(total_frames):\n",
    "    pcd = np.fromfile(bin_files[index], dtype=np.float32)\n",
    "    pcd = pcd.reshape(-1, 4)\n",
    "\n",
    "    ## selecting every 100th point\n",
    "    points = pcd[:, :-1][::100]\n",
    "\n",
    "    pcd = o3d.geometry.PointCloud()\n",
    "    pcd.points = o3d.utility.Vector3dVector(points)\n",
    "\n",
    "    pcd.transform(homogenize(odometry[index]) @ T_cw)\n",
    "\n",
    "    pcd_list += pcd\n",
    "\n",
    "o3d.visualization.draw_geometries([pcd_list])"
   ]
  },
  {
   "cell_type": "code",
   "execution_count": 7,
   "id": "7096e5a2",
   "metadata": {},
   "outputs": [],
   "source": [
    "vis = o3d.visualization.Visualizer()\n",
    "vis.create_window()\n",
    "\n",
    "T = get_T(get_Rx(-np.pi / 3))\n",
    "\n",
    "for index in range(total_frames):\n",
    "    pcd = np.fromfile(bin_files[index], dtype=np.float32)\n",
    "    pcd = pcd.reshape(-1, 4)\n",
    "\n",
    "    # register all point clouds into a common reference frame and visualise it\n",
    "    points = pcd[:, :-1][::100]\n",
    "\n",
    "    point_cloud = o3d.geometry.PointCloud()\n",
    "    point_cloud.points = o3d.utility.Vector3dVector(points)\n",
    "\n",
    "    point_cloud.transform(T @ homogenize(odometry[index]) @ T_cw)\n",
    "\n",
    "    vis.add_geometry(point_cloud)\n",
    "\n",
    "    vis.poll_events()\n",
    "    vis.update_renderer()\n",
    "\n",
    "    time.sleep(0.1)\n",
    "    # vis.capture_screen_image(f'./results/question3/animation/frame_{index}.jpg')\n",
    "\n",
    "vis.destroy_window()"
   ]
  },
  {
   "cell_type": "markdown",
   "id": "dd5d2e32",
   "metadata": {},
   "source": [
    "### Transform the registered point cloud from the world to the $i^{th}$ camera frame"
   ]
  },
  {
   "cell_type": "code",
   "execution_count": 8,
   "id": "cc8c9d48",
   "metadata": {},
   "outputs": [],
   "source": [
    "def transform_to_ith_camera(index, pcd):\n",
    "    R_wc = get_Rz(-np.pi)\n",
    "    T_wc = get_T(R_wc)\n",
    "\n",
    "    T_i = T_wc @ inverse_T(homogenize(odometry[index]))\n",
    "    pcd.transform(T_i)\n",
    "    \n",
    "    ## World origin\n",
    "    mesh_frame1 = o3d.geometry.TriangleMesh().create_coordinate_frame(\n",
    "        size=20, origin=np.array([0.0, 0.0, 0.0])\n",
    "    )\n",
    "    mesh_frame1.transform(T_i)\n",
    "    \n",
    "    ## Origin in i-th camera's frame\n",
    "    mesh_frame2 = o3d.geometry.TriangleMesh().create_coordinate_frame(\n",
    "        size=10, origin=np.array([0.0, 0.0, 0.0])\n",
    "    )\n",
    "    mesh_frame2.transform(T_wc)\n",
    "\n",
    "    o3d.visualization.draw_geometries([pcd, mesh_frame1, mesh_frame2])"
   ]
  },
  {
   "cell_type": "code",
   "execution_count": 9,
   "id": "a25b110a",
   "metadata": {},
   "outputs": [],
   "source": [
    "global_pcd = o3d.geometry.PointCloud(pcd_list)\n",
    "transform_to_ith_camera(75, global_pcd)"
   ]
  },
  {
   "cell_type": "code",
   "execution_count": null,
   "id": "da146bbd",
   "metadata": {},
   "outputs": [],
   "source": []
  },
  {
   "cell_type": "markdown",
   "id": "755823dc",
   "metadata": {},
   "source": [
    "# Occupancy Map"
   ]
  },
  {
   "cell_type": "markdown",
   "id": "a855dbcc",
   "metadata": {},
   "source": [
    "Occupancy grid maps are discrete fine grain grid maps. These maps can be either 2-D or 3-D. Each cell in the occupancy grid map contains information on the physical objects present in the corresponding space. Since these maps shed light on what parts of the environment are occupied, and what is not, they are really useful for path planning and navigation.\n",
    "\n",
    "Occupancy grid maps are probabilistic in nature due to noisy measurements. Each cell can have three states: Occupied, unoccupied, and unknown. For the purpose of this assignment, you can ignore the unknown and work in a binary setting where 1 is occupied and 0 is unoccupied."
   ]
  },
  {
   "cell_type": "markdown",
   "id": "74065870",
   "metadata": {},
   "source": [
    "1. The task here is to create an occupancy map for each LiDAR scan. You do not need to apply bayesian update rules here, just keep it simple. \n",
    "\n",
    "2. Now, using the *registered* point cloud, generate occupancy maps for each frame. What difference do you expect to see between the two methods?\n",
    "\n",
    "You can mark a cell as occupied based on a threshold of how many different z values are there for a particular (x,y) cell."
   ]
  },
  {
   "cell_type": "code",
   "execution_count": 10,
   "id": "8e9cf195",
   "metadata": {},
   "outputs": [],
   "source": [
    "threshold = 0.5"
   ]
  },
  {
   "cell_type": "code",
   "execution_count": 11,
   "id": "be2f5b02",
   "metadata": {},
   "outputs": [],
   "source": [
    "global_pcd = o3d.geometry.PointCloud(pcd_list)"
   ]
  },
  {
   "cell_type": "code",
   "execution_count": 12,
   "id": "1822c0d6",
   "metadata": {},
   "outputs": [],
   "source": [
    "def convert_pcd_to_occupancy(pcd):\n",
    "    pcd_points = np.array(pcd.points)\n",
    "\n",
    "    x_min, x_max = pcd_points[:, 0].min(), pcd_points[:, 0].max()\n",
    "    z_min, z_max = pcd_points[:, 2].min(), pcd_points[:, 2].max()\n",
    "\n",
    "    x_min, x_max = np.floor(x_min).astype(int), np.ceil(x_max).astype(int)\n",
    "    z_min, z_max = np.floor(z_min).astype(int), np.ceil(z_max).astype(int)\n",
    "\n",
    "    occupancy_grid = np.zeros((x_max - x_min + 1, z_max - z_min + 1), dtype=np.float64)\n",
    "\n",
    "    for point in pcd_points:\n",
    "        x, _, z = point.astype(int)\n",
    "        occupancy_grid[x - x_min, z - z_min] += 1\n",
    "\n",
    "    occupancy_grid = np.uint8(occupancy_grid * 255) / 255\n",
    "    \n",
    "    return occupancy_grid"
   ]
  },
  {
   "cell_type": "markdown",
   "id": "494746e0",
   "metadata": {},
   "source": [
    "### Occupancy map for each LiDAR scan"
   ]
  },
  {
   "cell_type": "code",
   "execution_count": 13,
   "id": "12f74e5e",
   "metadata": {
    "scrolled": false
   },
   "outputs": [],
   "source": [
    "for index in range(total_frames):\n",
    "    pcd = np.fromfile(bin_files[index], dtype=np.float32)\n",
    "    pcd = pcd.reshape(-1, 4)\n",
    "\n",
    "    points = pcd[:, :-1]\n",
    "\n",
    "    reflectance = pcd[:, -1]\n",
    "    colors = np.stack([reflectance, reflectance, reflectance], axis=1)\n",
    "\n",
    "    point_cloud = o3d.geometry.PointCloud()\n",
    "    point_cloud.points = o3d.utility.Vector3dVector(points)\n",
    "    point_cloud.colors = o3d.utility.Vector3dVector(colors)\n",
    "    \n",
    "    point_cloud.transform(T_cw)\n",
    "\n",
    "    \n",
    "    occupancy_grid = convert_pcd_to_occupancy(point_cloud)\n",
    "    \n",
    "    fig = plt.figure(figsize=(10, 10))  \n",
    "    plt.imshow(occupancy_grid > threshold, cmap='gray')\n",
    "    plt.axis('off')\n",
    "    plt.title(f'frame_{index} Free')\n",
    "    plt.savefig(f\"./results/occupancy/per_frame_pcd/frame_{index}_free.jpg\")\n",
    "    \n",
    "    plt.close('all');\n",
    "    \n",
    "    fig = plt.figure(figsize=(10, 10))\n",
    "    plt.imshow(occupancy_grid < threshold, cmap='gray')\n",
    "    plt.axis('off')\n",
    "    plt.title(f'frame_{index} Occupied')\n",
    "    plt.savefig(f\"./results/occupancy/per_frame_pcd/frame_{index}_occupied.jpg\")\n",
    "    \n",
    "    plt.close('all');"
   ]
  },
  {
   "cell_type": "markdown",
   "id": "bb857ed1",
   "metadata": {},
   "source": [
    "### Occupancy map for registered point cloud"
   ]
  },
  {
   "cell_type": "code",
   "execution_count": 14,
   "id": "b765b789",
   "metadata": {},
   "outputs": [],
   "source": [
    "occupancy_grid = convert_pcd_to_occupancy(global_pcd)\n",
    "\n",
    "fig = plt.figure(figsize=(10, 10))  \n",
    "plt.imshow(occupancy_grid > threshold, cmap='gray')\n",
    "plt.axis('off')\n",
    "plt.title(f'Full PCD Free')\n",
    "plt.savefig(f\"./results/occupancy/registered_pcd/full_pcd_free.jpg\")\n",
    "\n",
    "plt.close('all');\n",
    "\n",
    "fig = plt.figure(figsize=(10, 10))\n",
    "plt.imshow(occupancy_grid < threshold, cmap='gray')\n",
    "plt.axis('off')\n",
    "plt.title(f'Full PCD Occupied')\n",
    "plt.savefig(f\"./results/occupancy/registered_pcd/full_pcd_occupied.jpg\")\n",
    "\n",
    "plt.close('all');"
   ]
  },
  {
   "cell_type": "markdown",
   "id": "1d2f288b",
   "metadata": {},
   "source": [
    "Occupancy map for registered point cloud is more refined compared to the occupancy map for individual point cloud for each frame as the registered point cloud will have detailed information about the environment. "
   ]
  },
  {
   "cell_type": "code",
   "execution_count": null,
   "id": "fc974e08",
   "metadata": {},
   "outputs": [],
   "source": []
  }
 ],
 "metadata": {
  "kernelspec": {
   "display_name": "Python 3 (ipykernel)",
   "language": "python",
   "name": "python3"
  },
  "language_info": {
   "codemirror_mode": {
    "name": "ipython",
    "version": 3
   },
   "file_extension": ".py",
   "mimetype": "text/x-python",
   "name": "python",
   "nbconvert_exporter": "python",
   "pygments_lexer": "ipython3",
   "version": "3.8.11"
  }
 },
 "nbformat": 4,
 "nbformat_minor": 5
}
