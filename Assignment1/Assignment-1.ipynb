{
 "cells": [
  {
   "cell_type": "markdown",
   "id": "45941d46",
   "metadata": {},
   "source": [
    "# Assignment-1: Transformations and representations\n",
    "\n",
    "Team Name: \\<team name here\\> \n",
    "\n",
    "Roll number: \\<Roll number here (in sorted order)\\>"
   ]
  },
  {
   "cell_type": "markdown",
   "id": "6d7c6fd9",
   "metadata": {},
   "source": [
    "# Instructions\n",
    "\n",
    "- Code must be written in Python in Jupyter Notebooks. We highly recommend using anaconda distribution or at the minimum, virtual environments for this assignment. See `Set Up` for detailed step-by-step instructions about the installation setup.\n",
    "- Save all your results in ```results/<question_number>/<sub_topic_number>/```\n",
    "- The **References** section provides you with important resources to solve the assignment.\n",
    "- For this assignment, you will be using Open3D extensively. Refer to [Open3D Documentation](http://www.open3d.org/docs/release/): you can use the in-built methods and **unless explicitly mentioned**, don't need to code from scratch for this assignment. \n",
    "- Make sure your code is modular since you may need to reuse parts for future assignments.\n",
    "- Answer the descriptive questions in your own words with context & clarity. Do not copy answers from online resources or lecture notes.\n",
    "- The **deadline** for this assignment is on 11/09/2021 at 11:55pm. Please note that there will be no extensions.\n",
    "- Plagiarism is **strictly prohibited**.\n"
   ]
  },
  {
   "cell_type": "markdown",
   "id": "b5332520",
   "metadata": {},
   "source": [
    "# Submission Instructions\n",
    "\n",
    "1. Make sure your code runs without any errors after reinitializing the kernel and removing all saved variables.\n",
    "2. After completing your code and saving your results, zip the folder with name as ``Team_<team_name>_MR2021_Assignment_<assignment_number>.zip``"
   ]
  },
  {
   "cell_type": "markdown",
   "id": "206123c9",
   "metadata": {},
   "source": [
    "# Set Up\n",
    "\n",
    "We highly recommend using anaconda distribution or at the minimum, virtual environments for this assignment. All assignments will be python based, hence familiarising yourself with Python is essential.\n"
   ]
  },
  {
   "cell_type": "markdown",
   "id": "4223a706",
   "metadata": {},
   "source": [
    "## Setting up Anaconda environment (Recommended)\n",
    "\n",
    "1. Install Anaconda or Miniconda from [here](https://docs.conda.io/projects/conda/en/latest/user-guide/install/linux.html) depending on your requirements.\n",
    "2. Now simply run `conda env create -f environment.yml` in the current folder to create an environment `mr_assignment1` (`environment.yml` can be found in `misc/`).\n",
    "3. Activate it using `conda activate mr_assignment1`.\n",
    "\n",
    "## Setting up Virtual environment using venv\n",
    "\n",
    "You can also set up a virtual environment using venv\n",
    "\n",
    "1. Run `sudo apt-get install python3-venv` from command line.\n",
    "2. `python3 -m venv ~/virtual_env/mr_assignment1`. (you can set the environment path to anything)\n",
    "3. `source ~/virtual_env/mr_assignment1/bin/activate`\n",
    "4. `pip3 install -r requirements.txt` from the current folder (`requirements.txt` can be found in `misc/`)."
   ]
  },
  {
   "cell_type": "code",
   "execution_count": 24,
   "id": "710363db",
   "metadata": {},
   "outputs": [],
   "source": [
    "import open3d as o3d\n",
    "import numpy as np\n",
    "from scipy.optimize import fsolve\n",
    "from scipy.spatial.transform import Rotation"
   ]
  },
  {
   "cell_type": "markdown",
   "id": "45730cf8",
   "metadata": {},
   "source": [
    "# 1. Getting started with Open3D\n",
    "\n",
    "Open3D is an open-source library that deals with 3D data, such as point clouds, mesh. We'll be using Open3D frequently as we work with point clouds. Let's start with something simple:\n",
    "\n",
    "<img src=\"misc/bunny.jpg\" alt=\"drawing\" width=\"200\"/>\n",
    "\n",
    "1. Read the Stanford Bunny file (in `data/`) given to you and visualise it using Open3D.\n",
    "2. Convert the mesh to a point cloud and change the colour of points.\n",
    "3. Set a predefined viewing angle (using Open3D) for visualization and display the axes while plotting.\n",
    "4. Scale, Transform, and Rotate the rabbit (visualise after each step).\n",
    "5. Save the point cloud as bunny.pcd."
   ]
  },
  {
   "cell_type": "code",
   "execution_count": 214,
   "id": "686becf6",
   "metadata": {},
   "outputs": [],
   "source": [
    "# Reading Data\n",
    "mesh = o3d.io.read_triangle_mesh('./data/bunny.ply')\n",
    "o3d.visualization.draw([mesh])"
   ]
  },
  {
   "cell_type": "code",
   "execution_count": 219,
   "id": "08815b16",
   "metadata": {},
   "outputs": [],
   "source": [
    "## Convert Mesh to Point Cloud & Change Color\n",
    "point_cloud = mesh.sample_points_poisson_disk(5000)\n",
    "point_cloud.paint_uniform_color([1, 0.5, 0.])\n",
    "o3d.visualization.draw([point_cloud])"
   ]
  },
  {
   "cell_type": "code",
   "execution_count": 220,
   "id": "bfe6c29d",
   "metadata": {},
   "outputs": [],
   "source": [
    "## Show Axis\n",
    "mesh_frame = o3d.geometry.TriangleMesh.create_coordinate_frame(size=0.03, origin=np.array([0., 0., 0.]))\n",
    "o3d.visualization.draw([point_cloud, mesh_frame], \n",
    "                       lookat=np.array([[.0], [.1], [.0]], dtype=np.float64),\n",
    "                       eye=np.array([[0.0], [0.0], [-0.4]], dtype=np.float64),\n",
    "                       up=np.array([[0.0], [0.5], [0.0]], dtype=np.float64),\n",
    "                      )"
   ]
  },
  {
   "cell_type": "code",
   "execution_count": 221,
   "id": "883ea491",
   "metadata": {},
   "outputs": [],
   "source": [
    "## Scale Point Cloud by 0.5\n",
    "point_cloud.scale(scale=0.5, center=np.array([[.0], [.0], [.0]], dtype=np.float64))\n",
    "o3d.visualization.draw([point_cloud, mesh_frame],\n",
    "                       lookat=np.array([[.0], [.1], [.0]], dtype=np.float64),\n",
    "                       eye=np.array([[0.0], [0.0], [-0.4]], dtype=np.float64),\n",
    "                       up=np.array([[0.0], [0.5], [0.0]], dtype=np.float64),\n",
    "                      )"
   ]
  },
  {
   "cell_type": "code",
   "execution_count": 222,
   "id": "bf7d3bf6",
   "metadata": {
    "tags": []
   },
   "outputs": [],
   "source": [
    "## Transform Point Cloud (Rotate about Y axis, translate to [0.2, 0, 0])\n",
    "point_cloud.transform(np.array([[0.707, 0.0, 0.707, 0.2],\n",
    "                                [0.0, 1.0, 0.0, 0.0],\n",
    "                                [-0.707, 0.0, 0.707, 0.0],\n",
    "                                [0.0, 0.0, 0.0, 1.0]], dtype=np.float64))\n",
    "o3d.visualization.draw([point_cloud, mesh_frame],\n",
    "                       lookat=np.array([[.0], [.1], [.0]], dtype=np.float64),\n",
    "                       eye=np.array([[0.0], [0.0], [-0.4]], dtype=np.float64),\n",
    "                       up=np.array([[0.0], [0.5], [0.0]], dtype=np.float64),\n",
    "                      )"
   ]
  },
  {
   "cell_type": "code",
   "execution_count": 223,
   "id": "f7d8a221-34e0-45e8-a17c-68b1133c5d0e",
   "metadata": {},
   "outputs": [],
   "source": [
    "## Rotate Point Cloud (Rotate about Y axis)\n",
    "point_cloud.rotate(R=np.array([[0.707, 0.0, 0.707],\n",
    "                                [0.0, 1.0, 0.0],\n",
    "                                [-0.707, 0.0, 0.707]], dtype=np.float64))\n",
    "o3d.visualization.draw([point_cloud, mesh_frame],\n",
    "                       lookat=np.array([[.0], [.1], [.0]], dtype=np.float64),\n",
    "                       eye=np.array([[0.0], [0.0], [-0.4]], dtype=np.float64),\n",
    "                       up=np.array([[0.0], [0.5], [0.0]], dtype=np.float64),\n",
    "                      )"
   ]
  },
  {
   "cell_type": "code",
   "execution_count": 8,
   "id": "38dae5af",
   "metadata": {},
   "outputs": [],
   "source": [
    "## Save \n",
    "o3d.io.write_point_cloud('./data/bunny.pcd', point_cloud)"
   ]
  },
  {
   "cell_type": "markdown",
   "id": "1be445b8",
   "metadata": {},
   "source": [
    "# 2. Transformations and representations"
   ]
  },
  {
   "cell_type": "markdown",
   "id": "9f3f74fc",
   "metadata": {},
   "source": [
    "## a) Euler angles\n",
    "1. Write a function that returns a rotation matrix given the angles $\\alpha$, $\\beta$, and $\\gamma$ in radians (X-Y-Z)\n",
    "\n",
    "2. Solve for angles using ```fsolve from scipy``` for three initializations of your choice and compare.\n",
    "$$M(\\alpha , \\beta ,\\gamma)=\\left[\\begin{array}{rrr}0.26200263 & -0.19674724 & 0.944799 \\\\0.21984631 & 0.96542533 & 0.14007684 \\\\\n",
    "    -0.93969262 & 0.17101007 & 0.29619813\\end{array}\\right] \n",
    "$$\n",
    "\n",
    "$$N(\\alpha , \\beta ,\\gamma)=\\left[\\begin{array}{rrr}0 & -0.173648178 &  0.984807753 \\\\0 & 0.984807753 & 0.173648178 \\\\\n",
    "    -1 & 0 & 0\\end{array}\\right] \n",
    "$$\n",
    "\n",
    "3. What is a Gimbal lock? \n",
    "\n",
    "4. Show an example where a Gimbal lock occurs and visualize the Gimbal lock on the given bunny point cloud. You have to show the above by **animation** (cube rotating along each axis one by one).\n",
    "    - *Hint: Use Open3D's non-blocking visualization and discretize the rotation to simulate the animation. For example, if you want to rotate by $30^{\\circ}$ around a particular axis, do in increments of $5^{\\circ}$ 6 times to make it look like an animation.*\n"
   ]
  },
  {
   "cell_type": "markdown",
   "id": "92bbaa06-bf4c-44b4-a3ef-26ebeeedb7be",
   "metadata": {},
   "source": [
    "<font color='blue' size=4.0/> 2.a.1 Function that returns a rotation matrix given the angles $\\alpha$, $\\beta$, and $\\gamma$ in radians (X-Y-Z)"
   ]
  },
  {
   "cell_type": "code",
   "execution_count": 9,
   "id": "b747d278",
   "metadata": {},
   "outputs": [
    {
     "name": "stdout",
     "output_type": "stream",
     "text": [
      "[[1. 0. 0.]\n",
      " [0. 1. 0.]\n",
      " [0. 0. 1.]]\n"
     ]
    }
   ],
   "source": [
    "## Order can be reverse, Since X-Y-Z angles\n",
    "def get_rotation_matrix(alpha, beta, gamma):\n",
    "    r_alpha = np.array([[1.0, 0.0, 0.0],\n",
    "                        [0.0, np.cos(alpha), -np.sin(alpha)],\n",
    "                        [0.0, np.sin(alpha), np.cos(alpha)]], dtype=np.float64)\n",
    "    r_alpha = np.around(r_alpha, decimals=4)\n",
    "\n",
    "    r_beta = np.array([[np.cos(beta), 0.0, np.sin(beta)],\n",
    "                        [0.0, 1.0, 0.0],\n",
    "                        [-np.sin(beta), 0.0, np.cos(beta)]], dtype=np.float64)\n",
    "    r_beta = np.around(r_beta, decimals=4)\n",
    "\n",
    "    r_gamma = np.array([[np.cos(gamma), -np.sin(gamma), 0.0],\n",
    "                        [np.sin(gamma), np.cos(gamma), 0.0],\n",
    "                        [0.0, 0.0, 1.0]], dtype=np.float64)\n",
    "    r_gamma = np.around(r_gamma, decimals=3)\n",
    "    \n",
    "    return r_alpha @ r_beta @ r_gamma\n",
    "\n",
    "R = get_rotation_matrix(np.radians(0), np.radians(0), np.radians(0))\n",
    "print(R)"
   ]
  },
  {
   "cell_type": "code",
   "execution_count": null,
   "id": "d5e8341b-9e11-4f72-822a-b10b496f1eb0",
   "metadata": {},
   "outputs": [],
   "source": []
  },
  {
   "cell_type": "markdown",
   "id": "523a185a-005c-4f49-b76d-19a75251ea63",
   "metadata": {},
   "source": [
    "<font color='blue' size=4.0/> 2.a.2 Solve for angles using `fsolve from scipy` for three initializations of your choice and compare"
   ]
  },
  {
   "cell_type": "code",
   "execution_count": 10,
   "id": "7ac93b72-f9e2-49fd-b6e9-19910f5773b3",
   "metadata": {},
   "outputs": [],
   "source": [
    "M = np.array([[0.26200263, -0.19674724, 0.944799],\n",
    "              [0.21984631, 0.96542533, 0.14007684],\n",
    "              [-0.93969262, 0.17101007, 0.29619813]])\n",
    "\n",
    "N = np.array([[0., -0.173648178, 0.984807753],\n",
    "              [0., 0.984807753, 0.173648178],\n",
    "              [-1., 0., 0.]])"
   ]
  },
  {
   "cell_type": "code",
   "execution_count": 11,
   "id": "0e623c3c-20b2-41f4-b2e1-b939658def32",
   "metadata": {},
   "outputs": [],
   "source": [
    "def func(x, R):\n",
    "    return [np.cos(x[0])*np.cos(x[1]) - R[2, 2], np.sin(x[1]) - R[0, 2], np.cos(x[1])*np.cos(x[2]) - R[0, 0]]"
   ]
  },
  {
   "cell_type": "code",
   "execution_count": 12,
   "id": "65d1028b-7caa-4422-b5f3-38a40bd15595",
   "metadata": {},
   "outputs": [
    {
     "name": "stdout",
     "output_type": "stream",
     "text": [
      "Euler Angles for matrix M using fsolve: [-0.44174658  1.2369806   0.64409993]\n"
     ]
    }
   ],
   "source": [
    "x_M = [0.2, 0.1, np.pi/2]\n",
    "x_M = fsolve(func, x_M, args=M)\n",
    "print(f\"Euler Angles for matrix M using fsolve: {x_M}\")"
   ]
  },
  {
   "cell_type": "code",
   "execution_count": 13,
   "id": "6be5602b-3f2d-4420-863b-234c15392eb3",
   "metadata": {},
   "outputs": [
    {
     "name": "stdout",
     "output_type": "stream",
     "text": [
      "Euler Angles for matrix N using fsolve: [-1.57079633  1.3962634   1.57079633]\n"
     ]
    }
   ],
   "source": [
    "x_N = [0.2, 0.1, np.pi/2]\n",
    "x_N = fsolve(func, x_N, args=N)\n",
    "print(f\"Euler Angles for matrix N using fsolve: {x_N}\")"
   ]
  },
  {
   "cell_type": "code",
   "execution_count": 14,
   "id": "e74e8fdb-c561-4cd0-8aaf-2ee57a8b4619",
   "metadata": {},
   "outputs": [
    {
     "name": "stdout",
     "output_type": "stream",
     "text": [
      "Reconstructed matrix M from predcited angles \n",
      " [[ 0.26216    -0.19662     0.9448    ]\n",
      " [ 0.2192784   0.9655412   0.14009175]\n",
      " [-0.93977936  0.17045952  0.2962408 ]]\n",
      "Reconstructed matrix N from predcited angles \n",
      " [[ 0.     -0.1736  0.9848]\n",
      " [ 0.      0.9848  0.1736]\n",
      " [-1.      0.      0.    ]]\n"
     ]
    }
   ],
   "source": [
    "R_M = get_rotation_matrix(*x_M)\n",
    "print(\"Reconstructed matrix M from predcited angles \\n\", R_M)\n",
    "\n",
    "R_N = get_rotation_matrix(*x_N)\n",
    "print(\"Reconstructed matrix N from predcited angles \\n\", R_N)"
   ]
  },
  {
   "cell_type": "code",
   "execution_count": 15,
   "id": "47d5657a-f94a-4c31-a2ef-f1c1cc27b061",
   "metadata": {},
   "outputs": [
    {
     "name": "stdout",
     "output_type": "stream",
     "text": [
      "Closed Form Euler Angles for matrix M: [-0.44174662088223243, 1.2369806006375788, 0.6440999603368792]\n",
      "Closed Form Euler Angles for matrix N: [-1.5707963267948966, 1.3962634015251603, 1.5707963267948966]\n"
     ]
    }
   ],
   "source": [
    "## Verify (Closed Form)\n",
    "def rotationToEuler(R):\n",
    "    return [np.arctan2(-R[1, 2], R[2, 2]), np.arctan2(R[0, 2], np.sqrt(1 - R[0, 2]**2)), np.arctan2(-R[0, 1], R[0, 0])]\n",
    "\n",
    "print(f'Closed Form Euler Angles for matrix M: {rotationToEuler(M)}')\n",
    "print(f'Closed Form Euler Angles for matrix N: {rotationToEuler(N)}')"
   ]
  },
  {
   "cell_type": "code",
   "execution_count": null,
   "id": "816f7eef-6821-4f93-a08d-ee4803dc0c97",
   "metadata": {},
   "outputs": [],
   "source": []
  },
  {
   "cell_type": "markdown",
   "id": "950e16c9-66af-45ff-ad05-06d7b793a4f2",
   "metadata": {},
   "source": [
    "<font color='blue' size=4.0/> 2.a.3 What is a Gimbal lock?"
   ]
  },
  {
   "cell_type": "markdown",
   "id": "df1a282e-0119-40d7-bca2-42850981d8e1",
   "metadata": {},
   "source": [
    "Gimbal lock occurs when two of the three axis of rotations become parallel to each other resulting in loss of one degree of freedom and restricting rotation to two dimensional space."
   ]
  },
  {
   "cell_type": "code",
   "execution_count": null,
   "id": "88735c2a-4e61-45ca-a8a8-4941871634aa",
   "metadata": {},
   "outputs": [],
   "source": []
  },
  {
   "cell_type": "markdown",
   "id": "fbcf9e4d-61db-485c-a420-d7c370676e74",
   "metadata": {},
   "source": [
    "<font color='blue' size=4.0/> 2.a.4 Example of Gimbal lock and visualize the Gimbal lock on the given bunny point cloud"
   ]
  },
  {
   "cell_type": "code",
   "execution_count": 225,
   "id": "038a7961",
   "metadata": {},
   "outputs": [],
   "source": [
    "point_cloud = o3d.io.read_point_cloud('./data/bunny.ply')"
   ]
  },
  {
   "cell_type": "code",
   "execution_count": 226,
   "id": "cfaedabf",
   "metadata": {},
   "outputs": [],
   "source": [
    "pcd_list = []\n",
    "\n",
    "for angle in range(0, 90, 10):\n",
    "    point_cloud.rotate(R=np.array([[1.0, 0.0, 0.0],\n",
    "                                   [0.0, np.cos(np.radians(angle)), -np.sin(np.radians(angle))],\n",
    "                                   [0.0, np.sin(np.radians(angle)), np.cos(np.radians(angle))]], dtype=np.float64))\n",
    "    pcd_list.append(point_cloud)"
   ]
  },
  {
   "cell_type": "code",
   "execution_count": 227,
   "id": "567f919a",
   "metadata": {},
   "outputs": [],
   "source": []
  },
  {
   "cell_type": "code",
   "execution_count": null,
   "id": "9b1fff36",
   "metadata": {},
   "outputs": [],
   "source": []
  },
  {
   "cell_type": "code",
   "execution_count": null,
   "id": "ee494943",
   "metadata": {},
   "outputs": [],
   "source": []
  },
  {
   "cell_type": "markdown",
   "id": "34cc3753",
   "metadata": {},
   "source": [
    "## b) Quaternions\n",
    "\n",
    "1. What makes Quaternions popular in graphics? \n",
    "2. Convert a rotation matrix to quaternion and vice versa. Do not use inbuilt libraries for this question.\n",
    "3. Perform matrix multiplication of two $\\mathcal{R}_{3 \\times 3}$ rotation matrices and perform the same transformation in the quaternion space. Verify if the final transformation obtained in both the cases are the same.\n",
    "4. Try to interpolate any 3D model (cube / bunny / not sphere obviously!!) between two rotation matrices and visualize!\n",
    "\n",
    "The above questions require you to **code your own functions** and **only verify** using inbuilt functions."
   ]
  },
  {
   "cell_type": "markdown",
   "id": "505bd00a",
   "metadata": {},
   "source": [
    "<font color='blue' size=4.0/> 2.b.1 What makes Quaternions popular in graphics?"
   ]
  },
  {
   "cell_type": "markdown",
   "id": "65fb2c83",
   "metadata": {},
   "source": [
    "Quaternions allow rotations about multiple axis simultaenously and hence do not suffer from gumbel lock that occurs during sequential rotations about individual axes. Additionally, Quaternions consume less memory and are faster to compute than rotation matrices."
   ]
  },
  {
   "cell_type": "markdown",
   "id": "9aa6d477",
   "metadata": {},
   "source": [
    "<font color='blue' size=4.0/> 2.b.2 Convert a rotation matrix to quaternion and vice versa."
   ]
  },
  {
   "cell_type": "code",
   "execution_count": 153,
   "id": "5475bde1",
   "metadata": {},
   "outputs": [],
   "source": [
    "def rotationToQuaternion(q, R):\n",
    "    tr = 1 + R[0, 0] + R[1, 1] + R[2, 2]\n",
    "    return [4*q[0]**2 - tr, \n",
    "            4*q[1]*q[2] - (R[0, 1] + R[1, 0]),\n",
    "            4*q[1]*q[3] - (R[0, 2] + R[2, 0]),\n",
    "            4*q[2]*q[3] - (R[2, 1] + R[1, 2])]\n",
    "\n",
    "def quaternionToRotation(q):\n",
    "    return np.array([[q[0]**2 + q[1]**2 - q[2]**2 - q[3]**2, 2*(q[1]*q[2] - q[0]*q[3]), 2*(q[1]*q[3] + q[0]*q[2])],\n",
    "                     [2*(q[1]*q[2] + q[0]*q[3]), q[0]**2 - q[1]**2 + q[2]**2 - q[3]**2, 2*(q[2]*q[3] - q[0]*q[1])],\n",
    "                     [2*(q[1]*q[3] - q[0]*q[2]), 2*(q[2]*q[3] + q[0]*q[1]), q[0]**2 - q[1]**2 - q[2]**2 + q[3]**2]])\n",
    "\n",
    "def quaternionConjugate(q):\n",
    "    return q*np.array([1, -1, -1, -1])"
   ]
  },
  {
   "cell_type": "code",
   "execution_count": 154,
   "id": "8e1925ae",
   "metadata": {},
   "outputs": [
    {
     "name": "stdout",
     "output_type": "stream",
     "text": [
      "Original Matrix: \n",
      " [[ 0.         -0.17364818  0.98480775]\n",
      " [ 0.          0.98480775  0.17364818]\n",
      " [-1.          0.          0.        ]]\n"
     ]
    }
   ],
   "source": [
    "rot_mat = N\n",
    "print(\"Original Matrix: \\n\", rot_mat)"
   ]
  },
  {
   "cell_type": "code",
   "execution_count": 160,
   "id": "7244d71b",
   "metadata": {},
   "outputs": [
    {
     "name": "stdout",
     "output_type": "stream",
     "text": [
      "Quaternion from matrix: [ 0.70441603  0.06162842 -0.70441603 -0.06162842]\n",
      "Conjugate Quaternion from matrix: [ 0.70441603 -0.06162842  0.70441603  0.06162842]\n"
     ]
    }
   ],
   "source": [
    "## Convert Rotation Matrix to Quaternion\n",
    "quaternion = [0.001, 0.001, 0.001, 0.001]\n",
    "quaternion = fsolve(rotationToQuaternion, quaternion, args=rot_mat)\n",
    "\n",
    "## Conjugate of quaternion\n",
    "quaternion_conj = quaternionConjugate(quaternion)\n",
    "\n",
    "print(f\"Quaternion from matrix: {quaternion}\")\n",
    "print(f\"Conjugate Quaternion from matrix: {quaternion_conj}\")"
   ]
  },
  {
   "cell_type": "code",
   "execution_count": 161,
   "id": "1b03f6f6",
   "metadata": {},
   "outputs": [
    {
     "name": "stdout",
     "output_type": "stream",
     "text": [
      "Rotation Matrix from Quaternion: \n",
      " [[-0.       -0.       -1.      ]\n",
      " [-0.173648  0.984808  0.      ]\n",
      " [ 0.984808  0.173648 -0.      ]]\n",
      "Rotation Matrix from Quaternion Conjugate: \n",
      " [[-0.       -0.173648  0.984808]\n",
      " [-0.        0.984808  0.173648]\n",
      " [-1.        0.       -0.      ]]\n"
     ]
    }
   ],
   "source": [
    "## Convert Quaternion to Rotation Matrix\n",
    "rotation_matrix = quaternionToRotation(quaternion)\n",
    "print(\"Rotation Matrix from Quaternion: \\n\", np.around(rotation_matrix, decimals=6))\n",
    "\n",
    "## Convert Quaternion Conjugate to Rotation Matrix\n",
    "rotation_matrix = quaternionToRotation(quaternion_conj)\n",
    "print(\"Rotation Matrix from Quaternion Conjugate: \\n\", np.around(rotation_matrix, decimals=6))"
   ]
  },
  {
   "cell_type": "code",
   "execution_count": 162,
   "id": "bc3864ec",
   "metadata": {},
   "outputs": [
    {
     "name": "stdout",
     "output_type": "stream",
     "text": [
      "Scipy Result:  [ 0.70441603 -0.06162842  0.70441603  0.06162842]\n"
     ]
    }
   ],
   "source": [
    "## Verification for Quaternion from Rotation Matrix\n",
    "r = Rotation.from_matrix(rot_mat)\n",
    "scipy_quat = r.as_quat()[[-1, 0, 1, 2]]\n",
    "print(\"Scipy Result: \", scipy_quat)"
   ]
  },
  {
   "cell_type": "code",
   "execution_count": 163,
   "id": "4b3e8b3e",
   "metadata": {},
   "outputs": [
    {
     "name": "stdout",
     "output_type": "stream",
     "text": [
      "Scipy Result: \n",
      " [[ 0.       -0.173648  0.984808]\n",
      " [ 0.        0.984808  0.173648]\n",
      " [-1.        0.        0.      ]]\n"
     ]
    }
   ],
   "source": [
    "## Verification for Quaternion to Rotation Matrix\n",
    "r = Rotation.from_quat(scipy_quat[[1, 2, 3, 0]])\n",
    "print(\"Scipy Result: \\n\", np.around(r.as_matrix(), decimals=6))"
   ]
  },
  {
   "cell_type": "code",
   "execution_count": null,
   "id": "bbeb7797",
   "metadata": {},
   "outputs": [],
   "source": []
  },
  {
   "cell_type": "markdown",
   "id": "16785873",
   "metadata": {},
   "source": [
    "<font color='blue' size=4.0/> 2.b.3 Perform matrix multiplication of two rotation matrices and perform the same transformation in the quaternion space"
   ]
  },
  {
   "cell_type": "code",
   "execution_count": 174,
   "id": "4f771980",
   "metadata": {},
   "outputs": [],
   "source": [
    "def multiplyQuaternions(a, b):\n",
    "    O = np.outer(a, b)\n",
    "    return np.array([O[0, 0] - O[1, 1] - O[2, 2] - O[3, 3], \n",
    "                     O[0, 1] + O[1, 0] + O[2, 3] - O[3, 2],\n",
    "                     O[0, 2] + O[2, 0] - O[1, 3] + O[3, 1],\n",
    "                     O[0, 3] + O[3, 0] + O[1, 2] - O[2, 1]])"
   ]
  },
  {
   "cell_type": "code",
   "execution_count": 175,
   "id": "3f064075",
   "metadata": {},
   "outputs": [
    {
     "name": "stdout",
     "output_type": "stream",
     "text": [
      "Matrix Multiplication:\n",
      " [[-0.9448 -0.2393  0.2239]\n",
      " [-0.1401  0.9126  0.3842]\n",
      " [-0.2962  0.3316 -0.8957]]\n"
     ]
    }
   ],
   "source": [
    "R_MN = M @ N\n",
    "print(\"Matrix Multiplication:\\n\", np.around(R_MN, decimals=4))"
   ]
  },
  {
   "cell_type": "code",
   "execution_count": 197,
   "id": "62e97e7e",
   "metadata": {},
   "outputs": [
    {
     "name": "stdout",
     "output_type": "stream",
     "text": [
      "Qm:\n",
      " [0.79429624 0.00973605 0.59313227 0.13112038] \n",
      "Qm':\n",
      " [ 0.79429624 -0.00973605 -0.59313227 -0.13112038]\n",
      "Qn:\n",
      " [ 0.70441603  0.06162842 -0.70441603 -0.06162842] \n",
      "Qn':\n",
      " [ 0.70441603 -0.06162842  0.70441603  0.06162842]\n"
     ]
    }
   ],
   "source": [
    "q_M = [0.001, 0.001, 0.001, 0.001]\n",
    "q_M = fsolve(rotationToQuaternion, q_M, args=M)\n",
    "q_M_ = quaternionConjugate(q_M)\n",
    "print(\"Qm:\\n\", q_M, \"\\nQm':\\n\", q_M_)\n",
    "\n",
    "q_N = [0.001, 0.001, 0.001, 0.001]\n",
    "q_N = fsolve(rotationToQuaternion, q_N, args=N)\n",
    "q_N_ = quaternionConjugate(q_N)\n",
    "print(\"Qn:\\n\", q_N, \"\\nQn':\\n\", q_N_)"
   ]
  },
  {
   "cell_type": "code",
   "execution_count": 194,
   "id": "c348e7ee",
   "metadata": {},
   "outputs": [
    {
     "name": "stdout",
     "output_type": "stream",
     "text": [
      "Qm x Qn:\n",
      " [ 0.98481  0.11162 -0.13302  0.     ]\n",
      "Qm' x Qn:\n",
      " [ 0.13422 -0.01372 -0.98601 -0.0979 ]\n",
      "Qm x Qn':\n",
      " [ 0.13422 -0.0979   0.96865  0.18473]\n",
      "Qm' x Qn':\n",
      " [ 0.98481  0.       0.15038 -0.08682]\n"
     ]
    }
   ],
   "source": [
    "q_MN = np.around(multiplyQuaternions(q_M, q_N), decimals=5)\n",
    "q_M_N = np.around(multiplyQuaternions(q_M_, q_N), decimals=5)\n",
    "q_MN_ = np.around(multiplyQuaternions(q_M, q_N_), decimals=5)\n",
    "q_M_N_ = np.around(multiplyQuaternions(q_M_, q_N_), decimals=5)\n",
    "print(\"Qm x Qn:\\n\", q_MN)\n",
    "print(\"Qm' x Qn:\\n\", q_M_N)\n",
    "print(\"Qm x Qn':\\n\", q_MN_)\n",
    "print(\"Qm' x Qn':\\n\", q_M_N_)"
   ]
  },
  {
   "cell_type": "code",
   "execution_count": 206,
   "id": "f11e35cb",
   "metadata": {},
   "outputs": [
    {
     "name": "stdout",
     "output_type": "stream",
     "text": [
      "Rot(Qm x Qn)\n",
      " [[ 0.96462 -0.0297  -0.262  ]\n",
      " [-0.0297   0.97509 -0.21985]\n",
      " [ 0.262    0.21985  0.9397 ]]\n",
      "Rot(Qm' x Qn)\n",
      " [[-9.6360e-01  5.3340e-02 -2.6200e-01]\n",
      " [ 7.8000e-04  9.8046e-01  1.9674e-01]\n",
      " [ 2.6737e-01  1.8938e-01 -9.4480e-01]]\n",
      "Rot(Qm x Qn')\n",
      " [[-0.94481 -0.23925  0.22385]\n",
      " [-0.14007  0.91259  0.38416]\n",
      " [-0.29619  0.3316  -0.89573]]\n",
      "Rot(Qm' x Qn')\n",
      " [[ 0.9397   0.171    0.29619]\n",
      " [-0.171    0.98493 -0.02611]\n",
      " [-0.29619 -0.02611  0.95477]]\n",
      "Rot(Qm x Qn') is same as Original Rotation Matrix Multiplication \n"
     ]
    }
   ],
   "source": [
    "rotation_matrix = quaternionToRotation(q_MN)\n",
    "print(\"Rot(Qm x Qn)\\n\", np.around(rotation_matrix, decimals=5))\n",
    "\n",
    "rotation_matrix = quaternionToRotation(q_M_N)\n",
    "print(\"Rot(Qm' x Qn)\\n\", np.around(rotation_matrix, decimals=5))\n",
    "\n",
    "rotation_matrix = quaternionToRotation(q_MN_)\n",
    "print(\"Rot(Qm x Qn')\\n\", np.around(rotation_matrix, decimals=5))\n",
    "\n",
    "rotation_matrix = quaternionToRotation(q_M_N_)\n",
    "print(\"Rot(Qm' x Qn')\\n\", np.around(rotation_matrix, decimals=5))\n",
    "\n",
    "print(\"Rot(Qm x Qn') is same as Original Rotation Matrix Multiplication \")"
   ]
  },
  {
   "cell_type": "code",
   "execution_count": 205,
   "id": "4fddc968",
   "metadata": {},
   "outputs": [
    {
     "name": "stdout",
     "output_type": "stream",
     "text": [
      "Scipy Result, Rot => Quat:  [ 0.13422226 -0.09790244  0.96864628  0.18472653]\n",
      "Result is same as Qm x Qn'\n"
     ]
    }
   ],
   "source": [
    "r = Rotation.from_matrix(R_MN)\n",
    "scipy_quat = r.as_quat()[[-1, 0, 1, 2]]\n",
    "print(\"Scipy Result, Rot => Quat: \", scipy_quat)\n",
    "print(\"Result is same as Qm x Qn'\")"
   ]
  },
  {
   "cell_type": "code",
   "execution_count": null,
   "id": "618bbe7a",
   "metadata": {},
   "outputs": [],
   "source": []
  },
  {
   "cell_type": "markdown",
   "id": "14b716c8",
   "metadata": {},
   "source": [
    "<font color='blue' size=4.0/> 2.b.4 Try to interpolate any 3D model between two rotation matrices and visualize"
   ]
  },
  {
   "cell_type": "code",
   "execution_count": 224,
   "id": "041f2783",
   "metadata": {},
   "outputs": [],
   "source": [
    "point_cloud.rotate(R=R_MN)\n",
    "o3d.visualization.draw([point_cloud, mesh_frame],\n",
    "                       lookat=np.array([[.0], [.1], [.0]], dtype=np.float64),\n",
    "                       eye=np.array([[0.0], [0.0], [-0.4]], dtype=np.float64),\n",
    "                       up=np.array([[0.0], [0.5], [0.0]], dtype=np.float64),\n",
    "                      )"
   ]
  },
  {
   "cell_type": "code",
   "execution_count": null,
   "id": "c8137bf7",
   "metadata": {},
   "outputs": [],
   "source": []
  },
  {
   "cell_type": "markdown",
   "id": "16a7675c",
   "metadata": {},
   "source": [
    "## c) Exponential maps (Bonus)\n",
    "\n",
    "1. What is the idea behind exponential map representation of rotation matrices?\n",
    "2. Perform matrix exponentiation and obtain the rotation matrix to rotate a vector $P$ around $\\omega$ for $\\theta$ seconds.\n",
    "$$\n",
    "\\omega = \\begin{bmatrix}2 \\\\ 1 \\\\ 15 \\end{bmatrix}\n",
    "$$\n",
    "\n",
    "$$\n",
    "\\theta = 4.1364\n",
    "$$\n",
    "\n",
    "3. Compute the logarithmic map (SO(3) to so(3)) of the rotation matrix to obtain the rotation vector and the angle of rotation\n",
    "$$\n",
    "\\begin{bmatrix}\n",
    "0.1 &  -0.9487 & 0.3 \\\\\n",
    "0.9487 & 0.  & -0.3162 \\\\\n",
    "0.3   &  0.3162  & 0.9 \n",
    "\\end{bmatrix}\n",
    "$$\n",
    "You can use inbuilt libraries **only to verify** your results."
   ]
  },
  {
   "cell_type": "code",
   "execution_count": null,
   "id": "217179fa",
   "metadata": {},
   "outputs": [],
   "source": []
  },
  {
   "cell_type": "markdown",
   "id": "fe7fa7de",
   "metadata": {},
   "source": [
    "# 3. Data representations"
   ]
  },
  {
   "cell_type": "markdown",
   "id": "4022e340",
   "metadata": {},
   "source": [
    "## a) Octomaps\n",
    "\n",
    "1. Why is an Octomap memory efficient?\n",
    "2. When do we update an Octomap and why?\n",
    "3. When would you likely use an octomap instead of a point cloud?\n",
    " "
   ]
  },
  {
   "cell_type": "code",
   "execution_count": null,
   "id": "40f8f3b7",
   "metadata": {},
   "outputs": [],
   "source": []
  },
  {
   "cell_type": "markdown",
   "id": "b7edf76b",
   "metadata": {},
   "source": [
    "## b) Signed Distance Functions\n",
    "\n",
    "1. How do we determine object surfaces using SDF?\n",
    "2. How do we aggregate views from multiple cameras? (just a general overview is fine)\n",
    "3. Which preserves details better? Voxels or SDF? Why?\n",
    "4. What’s an advantage of SDF over a point cloud?\n"
   ]
  },
  {
   "cell_type": "code",
   "execution_count": null,
   "id": "201f9588",
   "metadata": {},
   "outputs": [],
   "source": []
  },
  {
   "cell_type": "markdown",
   "id": "010333c3",
   "metadata": {},
   "source": [
    "# References and Resources\n",
    "\n",
    "1. Gimbal locks and quaternions: https://youtu.be/YF5ZUlKxSgE\n",
    "2. Exponential map: \n",
    "    1. 3 Blue 1 Brown: https://youtu.be/O85OWBJ2ayo\n",
    "    2. Northwestern Robotics: https://youtu.be/v_KBHaG0mas\n",
    "3. Bunny ply is taken from: http://graphics.im.ntu.edu.tw/~robin/courses/cg03/model/"
   ]
  }
 ],
 "metadata": {
  "kernelspec": {
   "display_name": "Python 3 (ipykernel)",
   "language": "python",
   "name": "python3"
  },
  "language_info": {
   "codemirror_mode": {
    "name": "ipython",
    "version": 3
   },
   "file_extension": ".py",
   "mimetype": "text/x-python",
   "name": "python",
   "nbconvert_exporter": "python",
   "pygments_lexer": "ipython3",
   "version": "3.8.11"
  }
 },
 "nbformat": 4,
 "nbformat_minor": 5
}
