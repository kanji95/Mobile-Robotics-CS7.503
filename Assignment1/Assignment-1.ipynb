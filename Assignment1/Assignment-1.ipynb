{
 "cells": [
  {
   "cell_type": "markdown",
   "id": "45941d46",
   "metadata": {},
   "source": [
    "# Assignment-1: Transformations and representations\n",
    "\n",
    "Team Name: \\<team name here\\> \n",
    "\n",
    "Roll number: \\<Roll number here (in sorted order)\\>"
   ]
  },
  {
   "cell_type": "markdown",
   "id": "6d7c6fd9",
   "metadata": {},
   "source": [
    "# Instructions\n",
    "\n",
    "- Code must be written in Python in Jupyter Notebooks. We highly recommend using anaconda distribution or at the minimum, virtual environments for this assignment. See `Set Up` for detailed step-by-step instructions about the installation setup.\n",
    "- Save all your results in ```results/<question_number>/<sub_topic_number>/```\n",
    "- The **References** section provides you with important resources to solve the assignment.\n",
    "- For this assignment, you will be using Open3D extensively. Refer to [Open3D Documentation](http://www.open3d.org/docs/release/): you can use the in-built methods and **unless explicitly mentioned**, don't need to code from scratch for this assignment. \n",
    "- Make sure your code is modular since you may need to reuse parts for future assignments.\n",
    "- Answer the descriptive questions in your own words with context & clarity. Do not copy answers from online resources or lecture notes.\n",
    "- The **deadline** for this assignment is on 11/09/2021 at 11:55pm. Please note that there will be no extensions.\n",
    "- Plagiarism is **strictly prohibited**.\n"
   ]
  },
  {
   "cell_type": "markdown",
   "id": "b5332520",
   "metadata": {},
   "source": [
    "# Submission Instructions\n",
    "\n",
    "1. Make sure your code runs without any errors after reinitializing the kernel and removing all saved variables.\n",
    "2. After completing your code and saving your results, zip the folder with name as ``Team_<team_name>_MR2021_Assignment_<assignment_number>.zip``"
   ]
  },
  {
   "cell_type": "markdown",
   "id": "206123c9",
   "metadata": {},
   "source": [
    "# Set Up\n",
    "\n",
    "We highly recommend using anaconda distribution or at the minimum, virtual environments for this assignment. All assignments will be python based, hence familiarising yourself with Python is essential.\n"
   ]
  },
  {
   "cell_type": "markdown",
   "id": "4223a706",
   "metadata": {},
   "source": [
    "## Setting up Anaconda environment (Recommended)\n",
    "\n",
    "1. Install Anaconda or Miniconda from [here](https://docs.conda.io/projects/conda/en/latest/user-guide/install/linux.html) depending on your requirements.\n",
    "2. Now simply run `conda env create -f environment.yml` in the current folder to create an environment `mr_assignment1` (`environment.yml` can be found in `misc/`).\n",
    "3. Activate it using `conda activate mr_assignment1`.\n",
    "\n",
    "## Setting up Virtual environment using venv\n",
    "\n",
    "You can also set up a virtual environment using venv\n",
    "\n",
    "1. Run `sudo apt-get install python3-venv` from command line.\n",
    "2. `python3 -m venv ~/virtual_env/mr_assignment1`. (you can set the environment path to anything)\n",
    "3. `source ~/virtual_env/mr_assignment1/bin/activate`\n",
    "4. `pip3 install -r requirements.txt` from the current folder (`requirements.txt` can be found in `misc/`)."
   ]
  },
  {
   "cell_type": "code",
   "execution_count": 1,
   "id": "710363db",
   "metadata": {},
   "outputs": [],
   "source": [
    "import time\n",
    "from pprint import pprint\n",
    "import open3d as o3d\n",
    "\n",
    "import numpy as np\n",
    "from scipy.optimize import fsolve\n",
    "from scipy.spatial.transform import Rotation\n",
    "from transforms3d.euler import euler2mat, mat2euler\n",
    "\n",
    "import torch\n",
    "import pytorch3d.transforms as transforms\n",
    "\n",
    "np.set_printoptions(precision=3, suppress=True)"
   ]
  },
  {
   "cell_type": "markdown",
   "id": "45730cf8",
   "metadata": {},
   "source": [
    "# 1. Getting started with Open3D\n",
    "\n",
    "Open3D is an open-source library that deals with 3D data, such as point clouds, mesh. We'll be using Open3D frequently as we work with point clouds. Let's start with something simple:\n",
    "\n",
    "<img src=\"misc/bunny.jpg\" alt=\"drawing\" width=\"200\"/>\n",
    "\n",
    "1. Read the Stanford Bunny file (in `data/`) given to you and visualise it using Open3D.\n",
    "2. Convert the mesh to a point cloud and change the colour of points.\n",
    "3. Set a predefined viewing angle (using Open3D) for visualization and display the axes while plotting.\n",
    "4. Scale, Transform, and Rotate the rabbit (visualise after each step).\n",
    "5. Save the point cloud as bunny.pcd."
   ]
  },
  {
   "cell_type": "code",
   "execution_count": 2,
   "id": "686becf6",
   "metadata": {},
   "outputs": [
    {
     "data": {
      "text/plain": [
       "True"
      ]
     },
     "execution_count": 2,
     "metadata": {},
     "output_type": "execute_result"
    }
   ],
   "source": [
    "# Reading Data\n",
    "mesh = o3d.io.read_triangle_mesh('./data/bunny.ply')\n",
    "o3d.visualization.draw([mesh])\n",
    "\n",
    "## Convert Mesh to Point Cloud & Change Color\n",
    "point_cloud = mesh.sample_points_poisson_disk(5000)\n",
    "point_cloud.paint_uniform_color([1, 0.5, 0.])\n",
    "o3d.visualization.draw([point_cloud])\n",
    "\n",
    "## Show Axis\n",
    "mesh_frame = o3d.geometry.TriangleMesh.create_coordinate_frame(size=0.03, origin=np.array([0., 0., 0.]))\n",
    "o3d.visualization.draw([point_cloud, mesh_frame], \n",
    "                       lookat=np.array([[.0], [.1], [.0]], dtype=np.float64),\n",
    "                       eye=np.array([[0.0], [0.0], [-0.4]], dtype=np.float64),\n",
    "                       up=np.array([[0.0], [0.5], [0.0]], dtype=np.float64),\n",
    "                      )\n",
    "\n",
    "## Scale Point Cloud by 0.5\n",
    "point_cloud.scale(scale=0.5, center=np.array([[.0], [.0], [.0]], dtype=np.float64))\n",
    "o3d.visualization.draw([point_cloud, mesh_frame],\n",
    "                       lookat=np.array([[.0], [.1], [.0]], dtype=np.float64),\n",
    "                       eye=np.array([[0.0], [0.0], [-0.4]], dtype=np.float64),\n",
    "                       up=np.array([[0.0], [0.5], [0.0]], dtype=np.float64),\n",
    "                      )\n",
    "\n",
    "## Transform Point Cloud (Rotate about Y axis, translate to [0.2, 0, 0])\n",
    "point_cloud.transform(np.array([[0.707, 0.0, 0.707, 0.2],\n",
    "                                [0.0, 1.0, 0.0, 0.0],\n",
    "                                [-0.707, 0.0, 0.707, 0.0],\n",
    "                                [0.0, 0.0, 0.0, 1.0]], dtype=np.float64))\n",
    "o3d.visualization.draw([point_cloud, mesh_frame],\n",
    "                       lookat=np.array([[.0], [.1], [.0]], dtype=np.float64),\n",
    "                       eye=np.array([[0.0], [0.0], [-0.4]], dtype=np.float64),\n",
    "                       up=np.array([[0.0], [0.5], [0.0]], dtype=np.float64),\n",
    "                      )\n",
    "\n",
    "## Rotate Point Cloud (Rotate about Y axis)\n",
    "point_cloud.rotate(R=np.array([[0.707, 0.0, 0.707],\n",
    "                                [0.0, 1.0, 0.0],\n",
    "                                [-0.707, 0.0, 0.707]], dtype=np.float64))\n",
    "o3d.visualization.draw([point_cloud, mesh_frame],\n",
    "                       lookat=np.array([[.0], [.1], [.0]], dtype=np.float64),\n",
    "                       eye=np.array([[0.0], [0.0], [-0.4]], dtype=np.float64),\n",
    "                       up=np.array([[0.0], [0.5], [0.0]], dtype=np.float64),\n",
    "                      )\n",
    "\n",
    "## Save \n",
    "o3d.io.write_point_cloud('./data/bunny.pcd', point_cloud)"
   ]
  },
  {
   "cell_type": "code",
   "execution_count": 3,
   "id": "08815b16",
   "metadata": {},
   "outputs": [],
   "source": [
    "# ## Convert Mesh to Point Cloud & Change Color\n",
    "# point_cloud = mesh.sample_points_poisson_disk(5000)\n",
    "# point_cloud.paint_uniform_color([1, 0.5, 0.])\n",
    "# o3d.visualization.draw([point_cloud])"
   ]
  },
  {
   "cell_type": "code",
   "execution_count": 4,
   "id": "bfe6c29d",
   "metadata": {},
   "outputs": [],
   "source": [
    "# ## Show Axis\n",
    "# mesh_frame = o3d.geometry.TriangleMesh.create_coordinate_frame(size=0.03, origin=np.array([0., 0., 0.]))\n",
    "# o3d.visualization.draw([point_cloud, mesh_frame], \n",
    "#                        lookat=np.array([[.0], [.1], [.0]], dtype=np.float64),\n",
    "#                        eye=np.array([[0.0], [0.0], [-0.4]], dtype=np.float64),\n",
    "#                        up=np.array([[0.0], [0.5], [0.0]], dtype=np.float64),\n",
    "#                       )"
   ]
  },
  {
   "cell_type": "code",
   "execution_count": 5,
   "id": "883ea491",
   "metadata": {},
   "outputs": [],
   "source": [
    "# ## Scale Point Cloud by 0.5\n",
    "# point_cloud.scale(scale=0.5, center=np.array([[.0], [.0], [.0]], dtype=np.float64))\n",
    "# o3d.visualization.draw([point_cloud, mesh_frame],\n",
    "#                        lookat=np.array([[.0], [.1], [.0]], dtype=np.float64),\n",
    "#                        eye=np.array([[0.0], [0.0], [-0.4]], dtype=np.float64),\n",
    "#                        up=np.array([[0.0], [0.5], [0.0]], dtype=np.float64),\n",
    "#                       )"
   ]
  },
  {
   "cell_type": "code",
   "execution_count": 6,
   "id": "bf7d3bf6",
   "metadata": {
    "tags": []
   },
   "outputs": [],
   "source": [
    "# ## Transform Point Cloud (Rotate about Y axis, translate to [0.2, 0, 0])\n",
    "# point_cloud.transform(np.array([[0.707, 0.0, 0.707, 0.2],\n",
    "#                                 [0.0, 1.0, 0.0, 0.0],\n",
    "#                                 [-0.707, 0.0, 0.707, 0.0],\n",
    "#                                 [0.0, 0.0, 0.0, 1.0]], dtype=np.float64))\n",
    "# o3d.visualization.draw([point_cloud, mesh_frame],\n",
    "#                        lookat=np.array([[.0], [.1], [.0]], dtype=np.float64),\n",
    "#                        eye=np.array([[0.0], [0.0], [-0.4]], dtype=np.float64),\n",
    "#                        up=np.array([[0.0], [0.5], [0.0]], dtype=np.float64),\n",
    "#                       )"
   ]
  },
  {
   "cell_type": "code",
   "execution_count": 7,
   "id": "f7d8a221-34e0-45e8-a17c-68b1133c5d0e",
   "metadata": {},
   "outputs": [],
   "source": [
    "# ## Rotate Point Cloud (Rotate about Y axis)\n",
    "# point_cloud.rotate(R=np.array([[0.707, 0.0, 0.707],\n",
    "#                                 [0.0, 1.0, 0.0],\n",
    "#                                 [-0.707, 0.0, 0.707]], dtype=np.float64))\n",
    "# o3d.visualization.draw([point_cloud, mesh_frame],\n",
    "#                        lookat=np.array([[.0], [.1], [.0]], dtype=np.float64),\n",
    "#                        eye=np.array([[0.0], [0.0], [-0.4]], dtype=np.float64),\n",
    "#                        up=np.array([[0.0], [0.5], [0.0]], dtype=np.float64),\n",
    "#                       )"
   ]
  },
  {
   "cell_type": "code",
   "execution_count": 8,
   "id": "38dae5af",
   "metadata": {},
   "outputs": [],
   "source": [
    "# ## Save \n",
    "# o3d.io.write_point_cloud('./data/bunny.pcd', point_cloud)"
   ]
  },
  {
   "cell_type": "markdown",
   "id": "1be445b8",
   "metadata": {},
   "source": [
    "# 2. Transformations and representations"
   ]
  },
  {
   "cell_type": "markdown",
   "id": "9f3f74fc",
   "metadata": {},
   "source": [
    "## a) Euler angles\n",
    "1. Write a function that returns a rotation matrix given the angles $\\alpha$, $\\beta$, and $\\gamma$ in radians (X-Y-Z)\n",
    "\n",
    "2. Solve for angles using ```fsolve from scipy``` for three initializations of your choice and compare.\n",
    "$$M(\\alpha , \\beta ,\\gamma)=\\left[\\begin{array}{rrr}0.26200263 & -0.19674724 & 0.944799 \\\\0.21984631 & 0.96542533 & 0.14007684 \\\\\n",
    "    -0.93969262 & 0.17101007 & 0.29619813\\end{array}\\right] \n",
    "$$\n",
    "\n",
    "$$N(\\alpha , \\beta ,\\gamma)=\\left[\\begin{array}{rrr}0 & -0.173648178 &  0.984807753 \\\\0 & 0.984807753 & 0.173648178 \\\\\n",
    "    -1 & 0 & 0\\end{array}\\right] \n",
    "$$\n",
    "\n",
    "3. What is a Gimbal lock? \n",
    "\n",
    "4. Show an example where a Gimbal lock occurs and visualize the Gimbal lock on the given bunny point cloud. You have to show the above by **animation** (cube rotating along each axis one by one).\n",
    "    - *Hint: Use Open3D's non-blocking visualization and discretize the rotation to simulate the animation. For example, if you want to rotate by $30^{\\circ}$ around a particular axis, do in increments of $5^{\\circ}$ 6 times to make it look like an animation.*\n"
   ]
  },
  {
   "cell_type": "markdown",
   "id": "92bbaa06-bf4c-44b4-a3ef-26ebeeedb7be",
   "metadata": {},
   "source": [
    "<font color='blue' size=4.0/> 2.a.1 Function that returns a rotation matrix given the angles $\\alpha$, $\\beta$, and $\\gamma$ in radians (X-Y-Z)"
   ]
  },
  {
   "cell_type": "code",
   "execution_count": 9,
   "id": "b747d278",
   "metadata": {},
   "outputs": [
    {
     "name": "stdout",
     "output_type": "stream",
     "text": [
      "[[1. 0. 0.]\n",
      " [0. 1. 0.]\n",
      " [0. 0. 1.]]\n"
     ]
    }
   ],
   "source": [
    "## Order can be reverse, Since X-Y-Z angles\n",
    "def get_rotation_matrix(alpha, beta, gamma):\n",
    "    \n",
    "    r_alpha = np.matrix([[1.0, 0.0, 0.0],\n",
    "                        [0.0, np.cos(alpha), -np.sin(alpha)],\n",
    "                        [0.0, np.sin(alpha), np.cos(alpha)]], dtype=np.float64)\n",
    "    r_alpha = np.around(r_alpha, decimals=4)\n",
    "\n",
    "    r_beta = np.matrix([[np.cos(beta), 0.0, np.sin(beta)],\n",
    "                        [0.0, 1.0, 0.0],\n",
    "                        [-np.sin(beta), 0.0, np.cos(beta)]], dtype=np.float64)\n",
    "    r_beta = np.around(r_beta, decimals=4)\n",
    "\n",
    "    r_gamma = np.matrix([[np.cos(gamma), -np.sin(gamma), 0.0],\n",
    "                        [np.sin(gamma), np.cos(gamma), 0.0],\n",
    "                        [0.0, 0.0, 1.0]], dtype=np.float64)\n",
    "    r_gamma = np.around(r_gamma, decimals=3)\n",
    "    \n",
    "    return r_alpha @ r_beta @ r_gamma\n",
    "\n",
    "R = get_rotation_matrix(0, 0, 0)\n",
    "print(R)"
   ]
  },
  {
   "cell_type": "code",
   "execution_count": null,
   "id": "d5e8341b-9e11-4f72-822a-b10b496f1eb0",
   "metadata": {},
   "outputs": [],
   "source": []
  },
  {
   "cell_type": "markdown",
   "id": "523a185a-005c-4f49-b76d-19a75251ea63",
   "metadata": {},
   "source": [
    "<font color='blue' size=4.0/> 2.a.2 Solve for angles using `fsolve from scipy` for three initializations of your choice and compare"
   ]
  },
  {
   "cell_type": "code",
   "execution_count": 10,
   "id": "7ac93b72-f9e2-49fd-b6e9-19910f5773b3",
   "metadata": {},
   "outputs": [],
   "source": [
    "M = np.array([[0.26200263, -0.19674724, 0.944799],\n",
    "              [0.21984631, 0.96542533, 0.14007684],\n",
    "              [-0.93969262, 0.17101007, 0.29619813]])\n",
    "\n",
    "N = np.array([[0., -0.173648178, 0.984807753],\n",
    "              [0., 0.984807753, 0.173648178],\n",
    "              [-1., 0., 0.]])"
   ]
  },
  {
   "cell_type": "code",
   "execution_count": 11,
   "id": "0e623c3c-20b2-41f4-b2e1-b939658def32",
   "metadata": {},
   "outputs": [],
   "source": [
    "def get_euler_from_rotation(x, R):\n",
    "    return [np.cos(x[0])*np.cos(x[1]) - R[2, 2], np.sin(x[1]) - R[0, 2], np.cos(x[1])*np.cos(x[2]) - R[0, 0]]"
   ]
  },
  {
   "cell_type": "code",
   "execution_count": 12,
   "id": "65d1028b-7caa-4422-b5f3-38a40bd15595",
   "metadata": {},
   "outputs": [
    {
     "name": "stdout",
     "output_type": "stream",
     "text": [
      "Euler Angles for matrix M using fsolve: [-0.442  1.237  0.644]\n"
     ]
    }
   ],
   "source": [
    "x_M = [0.2, 0.1, np.pi/2]\n",
    "x_M = fsolve(get_euler_from_rotation, x_M, args=M)\n",
    "print(f\"Euler Angles for matrix M using fsolve: {x_M}\")"
   ]
  },
  {
   "cell_type": "code",
   "execution_count": 13,
   "id": "6be5602b-3f2d-4420-863b-234c15392eb3",
   "metadata": {},
   "outputs": [
    {
     "name": "stdout",
     "output_type": "stream",
     "text": [
      "Euler Angles for matrix N using fsolve: [-1.571  1.396  1.571]\n"
     ]
    }
   ],
   "source": [
    "x_N = [0.2, 0.1, np.pi/2]\n",
    "x_N = fsolve(get_euler_from_rotation, x_N, args=N)\n",
    "print(f\"Euler Angles for matrix N using fsolve: {x_N}\")"
   ]
  },
  {
   "cell_type": "code",
   "execution_count": 14,
   "id": "e74e8fdb-c561-4cd0-8aaf-2ee57a8b4619",
   "metadata": {},
   "outputs": [
    {
     "name": "stdout",
     "output_type": "stream",
     "text": [
      "Reconstructed matrix M from predcited angles \n",
      " [[ 0.262 -0.197  0.945]\n",
      " [ 0.219  0.966  0.14 ]\n",
      " [-0.94   0.17   0.296]]\n",
      "Reconstructed matrix N from predcited angles \n",
      " [[ 0.    -0.174  0.985]\n",
      " [ 0.     0.985  0.174]\n",
      " [-1.     0.     0.   ]]\n"
     ]
    }
   ],
   "source": [
    "R_M = get_rotation_matrix(*x_M)\n",
    "print(\"Reconstructed matrix M from predcited angles \\n\", R_M)\n",
    "\n",
    "R_N = get_rotation_matrix(*x_N)\n",
    "print(\"Reconstructed matrix N from predcited angles \\n\", R_N)"
   ]
  },
  {
   "cell_type": "code",
   "execution_count": 15,
   "id": "47d5657a-f94a-4c31-a2ef-f1c1cc27b061",
   "metadata": {},
   "outputs": [
    {
     "name": "stdout",
     "output_type": "stream",
     "text": [
      "Closed Form Euler Angles for matrix M: [-0.44174662088223243, 1.2369806006375788, 0.6440999603368792]\n",
      "Closed Form Euler Angles for matrix N: [-1.5707963267948966, 1.3962634015251603, 1.5707963267948966]\n"
     ]
    }
   ],
   "source": [
    "## Verify (Closed Form)\n",
    "def rotationToEuler(R):\n",
    "    return [np.arctan2(-R[1, 2], R[2, 2]), np.arctan2(R[0, 2], np.sqrt(1 - R[0, 2]**2)), np.arctan2(-R[0, 1], R[0, 0])]\n",
    "\n",
    "print(f'Closed Form Euler Angles for matrix M: {rotationToEuler(M)}')\n",
    "print(f'Closed Form Euler Angles for matrix N: {rotationToEuler(N)}')"
   ]
  },
  {
   "cell_type": "code",
   "execution_count": null,
   "id": "816f7eef-6821-4f93-a08d-ee4803dc0c97",
   "metadata": {},
   "outputs": [],
   "source": []
  },
  {
   "cell_type": "markdown",
   "id": "950e16c9-66af-45ff-ad05-06d7b793a4f2",
   "metadata": {},
   "source": [
    "<font color='blue' size=4.0/> 2.a.3 What is a Gimbal lock?"
   ]
  },
  {
   "cell_type": "markdown",
   "id": "df1a282e-0119-40d7-bca2-42850981d8e1",
   "metadata": {},
   "source": [
    "Gimbal lock occurs when two of the three axis of rotations become parallel to each other resulting in loss of one degree of freedom and restricting rotation to two dimensional space."
   ]
  },
  {
   "cell_type": "code",
   "execution_count": null,
   "id": "88735c2a-4e61-45ca-a8a8-4941871634aa",
   "metadata": {},
   "outputs": [],
   "source": []
  },
  {
   "cell_type": "markdown",
   "id": "fbcf9e4d-61db-485c-a420-d7c370676e74",
   "metadata": {},
   "source": [
    "<font color='blue' size=4.0/> 2.a.4 Example of Gimbal lock and visualize the Gimbal lock on the given bunny point cloud"
   ]
  },
  {
   "cell_type": "code",
   "execution_count": 16,
   "id": "460146cb",
   "metadata": {
    "scrolled": false
   },
   "outputs": [],
   "source": [
    "point_cloud = o3d.io.read_point_cloud('./data/bunny.ply')\n",
    "mesh_frame = o3d.geometry.TriangleMesh.create_coordinate_frame(size=0.03, origin=np.array([0., 0., 0.]))\n",
    "\n",
    "vis = o3d.visualization.Visualizer()\n",
    "vis.create_window()\n",
    "\n",
    "vis.add_geometry(mesh_frame)\n",
    "vis.add_geometry(point_cloud)\n",
    "\n",
    "step = 10\n",
    "axes = [(\"y\", 90), (\"x\", 90), (\"z\", 90), (\"x\", 40), (\"z\", 50)]\n",
    "for ax, degree in axes:\n",
    "    angle = 0\n",
    "    while angle < degree:\n",
    "        time.sleep(0.7)\n",
    "        \n",
    "        if ax == \"x\":\n",
    "            R = get_rotation_matrix(np.radians(step), np.radians(90), np.radians(0))\n",
    "            # R = euler2mat(np.radians(step), np.pi/2, np.radians(0), 'szyx')\n",
    "        elif ax == \"z\":\n",
    "            R = get_rotation_matrix(np.radians(0), np.radians(90), np.radians(step))\n",
    "            # R = euler2mat(np.radians(0), np.pi/2, np.radians(step), 'szyx')\n",
    "        else:\n",
    "            R = get_rotation_matrix(0, np.radians(step), 0)\n",
    "            # R = euler2mat(np.radians(0), np.pi/2, np.radians(0), 'szyx')\n",
    "        point_cloud.rotate(R=R)\n",
    "        mesh_frame.rotate(R=R)\n",
    "\n",
    "        angle += step\n",
    "        vis.update_geometry(point_cloud)\n",
    "        vis.update_geometry(mesh_frame)\n",
    "        \n",
    "        vis.poll_events()\n",
    "        vis.update_renderer()\n",
    "    \n",
    "vis.destroy_window()"
   ]
  },
  {
   "cell_type": "code",
   "execution_count": null,
   "id": "bed1b009",
   "metadata": {},
   "outputs": [],
   "source": []
  },
  {
   "cell_type": "markdown",
   "id": "34cc3753",
   "metadata": {},
   "source": [
    "## b) Quaternions\n",
    "\n",
    "1. What makes Quaternions popular in graphics? \n",
    "2. Convert a rotation matrix to quaternion and vice versa. Do not use inbuilt libraries for this question.\n",
    "3. Perform matrix multiplication of two $\\mathcal{R}_{3 \\times 3}$ rotation matrices and perform the same transformation in the quaternion space. Verify if the final transformation obtained in both the cases are the same.\n",
    "4. Try to interpolate any 3D model (cube / bunny / not sphere obviously!!) between two rotation matrices and visualize!\n",
    "\n",
    "The above questions require you to **code your own functions** and **only verify** using inbuilt functions."
   ]
  },
  {
   "cell_type": "markdown",
   "id": "2a9055f0",
   "metadata": {},
   "source": [
    "<font color='blue' size=4.0/> 2.b.1 What makes Quaternions popular in graphics?"
   ]
  },
  {
   "cell_type": "markdown",
   "id": "e7e0dd94",
   "metadata": {},
   "source": [
    "Quaternions allow rotations about multiple axis simultaenously and hence do not suffer from gumbel lock that occurs during sequential rotations about individual axes. Additionally, Quaternions consume less memory and are faster to compute than rotation matrices."
   ]
  },
  {
   "cell_type": "markdown",
   "id": "199ac54c",
   "metadata": {},
   "source": [
    "<font color='blue' size=4.0/> 2.b.2 Convert a rotation matrix to quaternion and vice versa."
   ]
  },
  {
   "cell_type": "code",
   "execution_count": 17,
   "id": "5475bde1",
   "metadata": {},
   "outputs": [],
   "source": [
    "def quaternion_to_rotation(q):\n",
    "    return np.array([[q[0]**2 + q[1]**2 - q[2]**2 - q[3]**2, 2*(q[1]*q[2] - q[0]*q[3]), 2*(q[1]*q[3] + q[0]*q[2])],\n",
    "                     [2*(q[1]*q[2] + q[0]*q[3]), q[0]**2 - q[1]**2 + q[2]**2 - q[3]**2, 2*(q[2]*q[3] - q[0]*q[1])],\n",
    "                     [2*(q[1]*q[3] - q[0]*q[2]), 2*(q[2]*q[3] + q[0]*q[1]), q[0]**2 - q[1]**2 - q[2]**2 + q[3]**2]])\n",
    "\n",
    "def quaternion_conjugate(q):\n",
    "    return q*np.array([1, -1, -1, -1])\n",
    "\n",
    "def rotation_to_quaternion(R):\n",
    "    tr = R[0, 0] + R[1, 1] + R[2, 2]\n",
    "    return np.array([0.5 * np.sqrt(1 + tr), \n",
    "            np.copysign(0.5 * np.sqrt(1 + R[0,0] - R[1,1] - R[2,2]), R[2, 1] - R[1, 2]),\n",
    "            np.copysign(0.5 * np.sqrt(1 - R[0,0] + R[1,1] - R[2,2]), R[0, 2] - R[2, 0]),\n",
    "            np.copysign(0.5 * np.sqrt(1 - R[0,0] - R[1,1] + R[2,2]), R[1, 0] - R[0, 1])])"
   ]
  },
  {
   "cell_type": "code",
   "execution_count": 18,
   "id": "e5566c8b",
   "metadata": {},
   "outputs": [
    {
     "name": "stdout",
     "output_type": "stream",
     "text": [
      "Original Matrix: \n",
      " [[ 0.262 -0.197  0.945]\n",
      " [ 0.22   0.965  0.14 ]\n",
      " [-0.94   0.171  0.296]]\n"
     ]
    }
   ],
   "source": [
    "rot_mat = M\n",
    "print(\"Original Matrix: \\n\", rot_mat)"
   ]
  },
  {
   "cell_type": "code",
   "execution_count": 19,
   "id": "30623603",
   "metadata": {},
   "outputs": [
    {
     "name": "stdout",
     "output_type": "stream",
     "text": [
      "Quaternion from matrix: [0.794 0.01  0.593 0.131]\n"
     ]
    }
   ],
   "source": [
    "## Convert Rotation Matrix to Quaternion\n",
    "quaternion = rotation_to_quaternion(rot_mat)\n",
    "print(f\"Quaternion from matrix: {quaternion}\")"
   ]
  },
  {
   "cell_type": "code",
   "execution_count": 20,
   "id": "98418924",
   "metadata": {},
   "outputs": [
    {
     "name": "stdout",
     "output_type": "stream",
     "text": [
      "Rotation Matrix from Quaternion: \n",
      " [[ 0.262 -0.197  0.945]\n",
      " [ 0.22   0.965  0.14 ]\n",
      " [-0.94   0.171  0.296]]\n"
     ]
    }
   ],
   "source": [
    "## Convert Quaternion to Rotation Matrix\n",
    "rotation_matrix = quaternion_to_rotation(quaternion)\n",
    "print(\"Rotation Matrix from Quaternion: \\n\", np.around(rotation_matrix, decimals=6))"
   ]
  },
  {
   "cell_type": "code",
   "execution_count": 21,
   "id": "0a81e024",
   "metadata": {},
   "outputs": [
    {
     "name": "stdout",
     "output_type": "stream",
     "text": [
      "Scipy Result:  [0.794 0.01  0.593 0.131]\n"
     ]
    }
   ],
   "source": [
    "## Verification for Quaternion from Rotation Matrix\n",
    "r = Rotation.from_matrix(rot_mat)\n",
    "scipy_quat = r.as_quat()[[-1, 0, 1, 2]]\n",
    "print(\"Scipy Result: \", scipy_quat)"
   ]
  },
  {
   "cell_type": "code",
   "execution_count": 22,
   "id": "5645f8c1",
   "metadata": {},
   "outputs": [
    {
     "name": "stdout",
     "output_type": "stream",
     "text": [
      "Scipy Result: \n",
      " [[ 0.262 -0.197  0.945]\n",
      " [ 0.22   0.965  0.14 ]\n",
      " [-0.94   0.171  0.296]]\n"
     ]
    }
   ],
   "source": [
    "## Verification for Quaternion to Rotation Matrix\n",
    "r = Rotation.from_quat(scipy_quat[[1, 2, 3, 0]])\n",
    "print(\"Scipy Result: \\n\", np.around(r.as_matrix(), decimals=6))"
   ]
  },
  {
   "cell_type": "code",
   "execution_count": null,
   "id": "33e495db",
   "metadata": {},
   "outputs": [],
   "source": []
  },
  {
   "cell_type": "markdown",
   "id": "1d616a49",
   "metadata": {},
   "source": [
    "<font color='blue' size=4.0/> 2.b.3 Perform matrix multiplication of two rotation matrices and perform the same transformation in the quaternion space"
   ]
  },
  {
   "cell_type": "code",
   "execution_count": 23,
   "id": "7c0a8a15",
   "metadata": {},
   "outputs": [],
   "source": [
    "def multiply_quaternions(a, b):\n",
    "    O = np.outer(a, b)\n",
    "    return np.array([O[0, 0] - O[1, 1] - O[2, 2] - O[3, 3], \n",
    "                     O[0, 1] + O[1, 0] + O[2, 3] - O[3, 2],\n",
    "                     O[0, 2] + O[2, 0] - O[1, 3] + O[3, 1],\n",
    "                     O[0, 3] + O[3, 0] + O[1, 2] - O[2, 1]])\n",
    "\n",
    "def normalize(x):\n",
    "    norm = np.linalg.norm(x, 2)\n",
    "    x = x / norm\n",
    "    return x"
   ]
  },
  {
   "cell_type": "code",
   "execution_count": 24,
   "id": "229efa25",
   "metadata": {},
   "outputs": [
    {
     "name": "stdout",
     "output_type": "stream",
     "text": [
      "Matrix Multiplication:\n",
      " [[-0.945 -0.239  0.224]\n",
      " [-0.14   0.913  0.384]\n",
      " [-0.296  0.332 -0.896]]\n"
     ]
    }
   ],
   "source": [
    "R_MN = M @ N\n",
    "print(\"Matrix Multiplication:\\n\", np.around(R_MN, decimals=4))"
   ]
  },
  {
   "cell_type": "code",
   "execution_count": 25,
   "id": "e3f6bdce",
   "metadata": {},
   "outputs": [
    {
     "name": "stdout",
     "output_type": "stream",
     "text": [
      "Qm:\n",
      " [0.794 0.01  0.593 0.131]\n",
      "Qn:\n",
      " [ 0.704 -0.062  0.704  0.062]\n"
     ]
    }
   ],
   "source": [
    "q_M = rotation_to_quaternion(M)\n",
    "print(\"Qm:\\n\", q_M)\n",
    "\n",
    "q_N = rotation_to_quaternion(N)\n",
    "print(\"Qn:\\n\", q_N)"
   ]
  },
  {
   "cell_type": "code",
   "execution_count": 26,
   "id": "f07084de",
   "metadata": {},
   "outputs": [
    {
     "name": "stdout",
     "output_type": "stream",
     "text": [
      "Qm x Qn:\n",
      " [ 0.134 -0.098  0.969  0.185]\n"
     ]
    }
   ],
   "source": [
    "q_MN = np.around(multiply_quaternions(q_M, q_N), decimals=5)\n",
    "print(\"Qm x Qn:\\n\", q_MN)"
   ]
  },
  {
   "cell_type": "code",
   "execution_count": 27,
   "id": "0ba5a086",
   "metadata": {},
   "outputs": [
    {
     "name": "stdout",
     "output_type": "stream",
     "text": [
      "Rot(Qm x Qn)\n",
      " [[-0.945 -0.239  0.224]\n",
      " [-0.14   0.913  0.384]\n",
      " [-0.296  0.332 -0.896]]\n",
      "Rot(Qm x Qn) is same as Original Rotation Matrix Multiplication \n"
     ]
    }
   ],
   "source": [
    "rotation_matrix = quaternion_to_rotation(q_MN)\n",
    "print(\"Rot(Qm x Qn)\\n\", np.around(rotation_matrix, decimals=5))\n",
    "\n",
    "print(\"Rot(Qm x Qn) is same as Original Rotation Matrix Multiplication \")"
   ]
  },
  {
   "cell_type": "code",
   "execution_count": 28,
   "id": "0698f705",
   "metadata": {},
   "outputs": [
    {
     "name": "stdout",
     "output_type": "stream",
     "text": [
      "Scipy Result, Rot => Quat:  [ 0.134 -0.098  0.969  0.185]\n",
      "Result is same as Qm x Qn\n"
     ]
    }
   ],
   "source": [
    "## Verification\n",
    "r = Rotation.from_matrix(R_MN)\n",
    "scipy_quat = r.as_quat()[[-1, 0, 1, 2]]\n",
    "print(\"Scipy Result, Rot => Quat: \", scipy_quat)\n",
    "print(\"Result is same as Qm x Qn\")"
   ]
  },
  {
   "cell_type": "code",
   "execution_count": null,
   "id": "51a45252",
   "metadata": {},
   "outputs": [],
   "source": []
  },
  {
   "cell_type": "markdown",
   "id": "d4e2f30c",
   "metadata": {},
   "source": [
    "<font color='blue' size=4.0/> 2.b.4 Try to interpolate any 3D model between two rotation matrices and visualize"
   ]
  },
  {
   "cell_type": "code",
   "execution_count": 29,
   "id": "f84163d0",
   "metadata": {},
   "outputs": [],
   "source": [
    "# Interpolate between Rotation Matrices\n",
    "def interpolate_rotations(R0, R1, steps=5):\n",
    "    \n",
    "    q0 = rotation_to_quaternion(R0)\n",
    "    q1 = rotation_to_quaternion(R1)\n",
    "    \n",
    "    quaternions = [None] * (steps + 2)\n",
    "    quaternions[0] = q0\n",
    "    quaternions[-1] = q1\n",
    "\n",
    "    dot = np.dot(q0, q1)\n",
    "    \n",
    "    if dot < 0.0:\n",
    "        q0 = -q0\n",
    "        dot = -dot\n",
    "\n",
    "    theta_ = np.arccos(dot)\n",
    "    sin_theta_ = np.sin(theta_)\n",
    "    \n",
    "    step_size = 1/(steps + 1)\n",
    "    \n",
    "    for i in range(1, steps + 1):\n",
    "        \n",
    "        amount = i * step_size\n",
    "        \n",
    "        theta = theta_ * amount\n",
    "        sin_theta = np.sin(theta)\n",
    "\n",
    "        s0 = np.cos(theta) - dot * sin_theta / sin_theta_\n",
    "        s1 = sin_theta / sin_theta_\n",
    "        qr = s0 * q0 + s1 * q1\n",
    "        qr = normalize(qr)\n",
    "        \n",
    "        quaternions[i] = qr\n",
    "    \n",
    "    rotations = []\n",
    "    for i in range(1, len(quaternions)):\n",
    "        quat_diff = multiply_quaternions(quaternion_conjugate(quaternions[i - 1]), quaternions[i])\n",
    "        quat_diff = normalize(quat_diff)\n",
    "        R = quaternion_to_rotation(quat_diff)\n",
    "        rotations.append(R)\n",
    "    return rotations"
   ]
  },
  {
   "cell_type": "code",
   "execution_count": 30,
   "id": "ab22045e",
   "metadata": {},
   "outputs": [
    {
     "name": "stdout",
     "output_type": "stream",
     "text": [
      "[[ 0.  0.  1.]\n",
      " [ 0.  1. -0.]\n",
      " [-1.  0.  0.]]\n",
      "[[ 0.  0.  1.]\n",
      " [ 0.  1.  0.]\n",
      " [-1.  0.  0.]]\n"
     ]
    }
   ],
   "source": [
    "R0 = Rotation.from_euler('x', 90, degrees=True).as_matrix()\n",
    "R1 = Rotation.from_euler('y', 90, degrees=True).as_matrix()\n",
    "\n",
    "rotations = interpolate_rotations(R0, R1)\n",
    "\n",
    "## Verifying whether final matrices are smae\n",
    "R_ = R0\n",
    "for rotation in rotations:\n",
    "    R_ = R_ @ rotation\n",
    "\n",
    "print(R_)\n",
    "print(R1)"
   ]
  },
  {
   "cell_type": "code",
   "execution_count": 31,
   "id": "1ccf2ab9",
   "metadata": {},
   "outputs": [],
   "source": [
    "## Animation\n",
    "point_cloud = o3d.io.read_point_cloud('./data/bunny.ply')\n",
    "mesh_frame = o3d.geometry.TriangleMesh.create_coordinate_frame(size=0.03, origin=np.array([0., 0., 0.]))\n",
    "\n",
    "point_cloud.rotate(R=R0)\n",
    "mesh_frame.rotate(R=R0)\n",
    "\n",
    "vis = o3d.visualization.Visualizer()\n",
    "vis.create_window()\n",
    "\n",
    "vis.add_geometry(mesh_frame)\n",
    "vis.add_geometry(point_cloud)\n",
    "\n",
    "for rotation in rotations:\n",
    "    time.sleep(0.9)\n",
    "    point_cloud.rotate(R=rotation)\n",
    "    mesh_frame.rotate(R=rotation)\n",
    "\n",
    "    vis.update_geometry(point_cloud)\n",
    "    vis.update_geometry(mesh_frame)\n",
    "    \n",
    "    vis.poll_events()\n",
    "    vis.update_renderer()\n",
    "    \n",
    "vis.destroy_window()"
   ]
  },
  {
   "cell_type": "code",
   "execution_count": 32,
   "id": "44d9cda5",
   "metadata": {},
   "outputs": [],
   "source": [
    "point_cloud = o3d.io.read_point_cloud('./data/bunny.ply')\n",
    "point_cloud.paint_uniform_color([1, 0.5, 0.])\n",
    "\n",
    "mesh_frame = o3d.geometry.TriangleMesh.create_coordinate_frame(size=0.03, origin=np.array([0., 0., 0.]))\n",
    "\n",
    "o3d.visualization.draw([point_cloud, mesh_frame])\n",
    "\n",
    "point_cloud.rotate(R=R0)\n",
    "mesh_frame.rotate(R=R0)\n",
    "o3d.visualization.draw([point_cloud, mesh_frame])\n",
    "\n",
    "point_cloud.rotate(R=R1)\n",
    "mesh_frame.rotate(R=R1)\n",
    "o3d.visualization.draw([point_cloud, mesh_frame])"
   ]
  },
  {
   "cell_type": "code",
   "execution_count": null,
   "id": "d611bbc7",
   "metadata": {},
   "outputs": [],
   "source": []
  },
  {
   "cell_type": "markdown",
   "id": "16a7675c",
   "metadata": {},
   "source": [
    "## c) Exponential maps (Bonus)\n",
    "\n",
    "1. What is the idea behind exponential map representation of rotation matrices?\n",
    "2. Perform matrix exponentiation and obtain the rotation matrix to rotate a vector $P$ around $\\omega$ for $\\theta$ seconds.\n",
    "$$\n",
    "\\omega = \\begin{bmatrix}2 \\\\ 1 \\\\ 15 \\end{bmatrix}\n",
    "$$\n",
    "\n",
    "$$\n",
    "\\theta = 4.1364\n",
    "$$\n",
    "\n",
    "3. Compute the logarithmic map (SO(3) to so(3)) of the rotation matrix to obtain the rotation vector and the angle of rotation\n",
    "$$\n",
    "\\begin{bmatrix}\n",
    "0.1 &  -0.9487 & 0.3 \\\\\n",
    "0.9487 & 0.  & -0.3162 \\\\\n",
    "0.3   &  0.3162  & 0.9 \n",
    "\\end{bmatrix}\n",
    "$$\n",
    "You can use inbuilt libraries **only to verify** your results."
   ]
  },
  {
   "cell_type": "markdown",
   "id": "d4a2a9b3",
   "metadata": {},
   "source": [
    "<font color='blue' size=4.0/> 2.c.1 Idea behind exponential map representation of rotation matrices"
   ]
  },
  {
   "cell_type": "markdown",
   "id": "db774328",
   "metadata": {},
   "source": [
    "Parameterizing rotation matricies as 3x3 rotation matricies and quaternions is problamatic as certain constraint have to be followed during the updates. Exponential Map representation solve this problem by representing Rotation matrices with only three parameters, a free vector whose magnitude represents the degree of rotation. In this representation no constraints have to be followed so paramters updates are straightforward."
   ]
  },
  {
   "cell_type": "markdown",
   "id": "4d246da9",
   "metadata": {},
   "source": [
    "<font color='blue' size=4.0/> 2.c.2 Perform matrix exponentiation and obtain the rotation matrix to rotate a vector 𝑃 around 𝜔 for 𝜃 seconds"
   ]
  },
  {
   "cell_type": "code",
   "execution_count": 33,
   "id": "e06a7575",
   "metadata": {},
   "outputs": [],
   "source": [
    "def get_exponential_rotation(w, theta):\n",
    "    w_mag = np.linalg.norm(w, 2)\n",
    "    \n",
    "    ## Skey symmetric Matrix\n",
    "    w_hat = np.matrix([[0, -w[2], w[1]],\n",
    "                       [w[2], 0, -w[0]],\n",
    "                       [-w[1], w[0], 0]])\n",
    "    \n",
    "    ## Using Rodrigues Formula\n",
    "    rot_mat = np.eye(3) + (np.sin(w_mag*theta)/w_mag)*w_hat + ((1 - np.cos(w_mag*theta))/w_mag**2)*w_hat*w_hat\n",
    "    return rot_mat"
   ]
  },
  {
   "cell_type": "code",
   "execution_count": 34,
   "id": "52c7ca93",
   "metadata": {},
   "outputs": [
    {
     "name": "stdout",
     "output_type": "stream",
     "text": [
      "[[ 0.995  0.099 -0.006]\n",
      " [-0.099  0.995  0.014]\n",
      " [ 0.007 -0.013  1.   ]]\n"
     ]
    }
   ],
   "source": [
    "w = np.array([2, 1, 15])\n",
    "theta = 4.1364\n",
    "\n",
    "exp_rot = get_exponential_rotation(w, theta)\n",
    "print(exp_rot)"
   ]
  },
  {
   "cell_type": "code",
   "execution_count": 35,
   "id": "88d849a7",
   "metadata": {},
   "outputs": [
    {
     "name": "stdout",
     "output_type": "stream",
     "text": [
      "[[ 0.995  0.099 -0.006]\n",
      " [-0.099  0.995  0.014]\n",
      " [ 0.007 -0.013  1.   ]]\n"
     ]
    }
   ],
   "source": [
    "## Verification\n",
    "exp_rot_ = Rotation.from_rotvec(w*theta).as_matrix()\n",
    "print(exp_rot_)"
   ]
  },
  {
   "cell_type": "markdown",
   "id": "716d1b31",
   "metadata": {},
   "source": [
    "<font color='blue' size=4.0/> 2.c.3 Compute the logarithmic map (SO(3) to so(3)) of the rotation matrix to obtain the rotation vector and the angle of rotation"
   ]
  },
  {
   "cell_type": "code",
   "execution_count": 36,
   "id": "6fb214c6",
   "metadata": {},
   "outputs": [],
   "source": [
    "def get_logarithmic_map(R):\n",
    "    ## R = I + sin(t)K + ((1 - cos(t))K^2\n",
    "    ## K is skew_symmetric => trace(K) = 0\n",
    "    \n",
    "    tr = np.trace(R)\n",
    "    \n",
    "    t = np.arccos((tr - 1)/2)\n",
    "    K = (R - R.T)/2*np.sin(t)\n",
    "    \n",
    "    K_hat = np.array([K[2, 1], K[0, 2], K[1, 0]])\n",
    "    \n",
    "    return K_hat, t"
   ]
  },
  {
   "cell_type": "code",
   "execution_count": 37,
   "id": "cdb4fd41",
   "metadata": {},
   "outputs": [
    {
     "name": "stdout",
     "output_type": "stream",
     "text": [
      "Rotation vector: [0.316 0.    0.949], Rotation angle: 1.5707963267948966\n"
     ]
    }
   ],
   "source": [
    "R = np.matrix([[0.1, -0.9487, 0.3],\n",
    "               [0.9487, 0., -0.3162],\n",
    "               [0.3, 0.3162, 0.9]])\n",
    "\n",
    "w, t = get_logarithmic_map(R)\n",
    "print(f\"Rotation vector: {w}, Rotation angle: {t}\")"
   ]
  },
  {
   "cell_type": "code",
   "execution_count": 38,
   "id": "a0d4127f",
   "metadata": {},
   "outputs": [
    {
     "name": "stdout",
     "output_type": "stream",
     "text": [
      "Verify Rotation Angle:  1.570803391744983\n",
      "Verify Rotation vector:  [0.316 0.    0.949]\n"
     ]
    }
   ],
   "source": [
    "## Verification\n",
    "w_ = Rotation.from_matrix(R).as_rotvec()\n",
    "print(\"Verify Rotation Angle: \", np.linalg.norm(w_))\n",
    "\n",
    "w_ = normalize(w_)\n",
    "print(\"Verify Rotation vector: \", w_)"
   ]
  },
  {
   "cell_type": "code",
   "execution_count": null,
   "id": "2d8586b2",
   "metadata": {},
   "outputs": [],
   "source": []
  },
  {
   "cell_type": "markdown",
   "id": "fe7fa7de",
   "metadata": {},
   "source": [
    "# 3. Data representations"
   ]
  },
  {
   "cell_type": "markdown",
   "id": "4022e340",
   "metadata": {},
   "source": [
    "## a) Octomaps\n",
    "\n",
    "1. Why is an Octomap memory efficient?\n",
    "2. When do we update an Octomap and why?\n",
    "3. When would you likely use an octomap instead of a point cloud?\n",
    " "
   ]
  },
  {
   "cell_type": "markdown",
   "id": "01d0f8fa",
   "metadata": {},
   "source": [
    "<font color='blue' size=4.0/> 3.a.1 Why is an Octomap memory efficient?"
   ]
  },
  {
   "cell_type": "markdown",
   "id": "a4612a41",
   "metadata": {},
   "source": [
    "Octomap is based on heirarchical data structure called octree. In Octree, each node represents a 3D cubic volume called voxel. Octomaps discretize the 3D space into voxels, which can be further divided depending on the occupancy of space. Specifically, for free and fully occupied spaces sub-division is not required and for partially occupied space, voxels can be sub-divided until minimum voxel size is reached. This type of heirarchical 3D mapping allow Octomap to be memory efficient for storing data. Additionally, data access complexity is also reduced owing to tree-like hierarchy."
   ]
  },
  {
   "cell_type": "code",
   "execution_count": null,
   "id": "796f5594",
   "metadata": {},
   "outputs": [],
   "source": []
  },
  {
   "cell_type": "markdown",
   "id": "b6698396",
   "metadata": {},
   "source": [
    "<font color='blue' size=4.0/> 3.a.2 When do we update an Octomap and why?"
   ]
  },
  {
   "cell_type": "markdown",
   "id": "df62d494",
   "metadata": {},
   "source": [
    "Octomap is updated when subsequent observations measure a different state of voxel than that measured by previous observations. Updates are done to account for the dynamic changes in the 3D space."
   ]
  },
  {
   "cell_type": "code",
   "execution_count": null,
   "id": "2e25d4fa",
   "metadata": {},
   "outputs": [],
   "source": []
  },
  {
   "cell_type": "markdown",
   "id": "e02b1ea2",
   "metadata": {},
   "source": [
    "<font color='blue' size=4.0/> 3.a.3 When would you likely use an octomap instead of a point cloud?"
   ]
  },
  {
   "cell_type": "markdown",
   "id": "86fa81a2",
   "metadata": {},
   "source": [
    "For navigation tasks Octomap is more suitable than a point cloud. Point Clouds store large amount of measurement points and do not differentiate between free and unmapped areas. Further, the motion of vehicle introduces noise that can result in inaccurate mapping of 3D environment. Octomaps don't suffer from these issues, as they model free space explicitly and probabilistic mapping allow them to account for uncertainity introduced by noise."
   ]
  },
  {
   "cell_type": "markdown",
   "id": "b7edf76b",
   "metadata": {},
   "source": [
    "## b) Signed Distance Functions\n",
    "\n",
    "1. How do we determine object surfaces using SDF?\n",
    "2. How do we aggregate views from multiple cameras? (just a general overview is fine)\n",
    "3. Which preserves details better? Voxels or SDF? Why?\n",
    "4. What’s an advantage of SDF over a point cloud?\n"
   ]
  },
  {
   "cell_type": "markdown",
   "id": "71b729b3",
   "metadata": {},
   "source": [
    "<font color='blue' size=4.0/> 3.b.1 How do we determine object surfaces using SDF?"
   ]
  },
  {
   "cell_type": "markdown",
   "id": "f101b8b8",
   "metadata": {},
   "source": [
    "Signed distance functions are used to calculate the distance of a point from surface of an object and sign is used for determining whether the point is inside the surface or outside. A ray is cast from a source point towards the object, SDF is evaluated for points (voxels) intersecting the ray. Surface can be approximated by interpolating bewteen voxels having opposite signs for SDF value."
   ]
  },
  {
   "cell_type": "code",
   "execution_count": null,
   "id": "26543151",
   "metadata": {},
   "outputs": [],
   "source": []
  },
  {
   "cell_type": "markdown",
   "id": "9cfc4c6a",
   "metadata": {},
   "source": [
    "<font color='blue' size=4.0/> 3.b.2 How do we aggregate views from multiple cameras?"
   ]
  },
  {
   "cell_type": "markdown",
   "id": "64229b1f",
   "metadata": {},
   "source": [
    "Voxel values are updated with weighted average of SDF values for multiple camera views. Weight is directly proportional to the number of measurements for voxel and represents the confidence in the measurement."
   ]
  },
  {
   "cell_type": "markdown",
   "id": "34863619",
   "metadata": {},
   "source": [
    "<font color='blue' size=4.0/> 3.b.3 Which preserves details better? Voxels or SDF? Why?"
   ]
  },
  {
   "cell_type": "markdown",
   "id": "b41a4335",
   "metadata": {},
   "source": []
  },
  {
   "cell_type": "markdown",
   "id": "b8ae6a50",
   "metadata": {},
   "source": [
    "<font color='blue' size=4.0/> 3.b.4 What’s an advantage of SDF over a point cloud?"
   ]
  },
  {
   "cell_type": "markdown",
   "id": "b3b5f10b",
   "metadata": {},
   "source": []
  },
  {
   "cell_type": "markdown",
   "id": "010333c3",
   "metadata": {},
   "source": [
    "# References and Resources\n",
    "\n",
    "1. Gimbal locks and quaternions: https://youtu.be/YF5ZUlKxSgE\n",
    "2. Exponential map: \n",
    "    1. 3 Blue 1 Brown: https://youtu.be/O85OWBJ2ayo\n",
    "    2. Northwestern Robotics: https://youtu.be/v_KBHaG0mas\n",
    "3. Bunny ply is taken from: http://graphics.im.ntu.edu.tw/~robin/courses/cg03/model/"
   ]
  }
 ],
 "metadata": {
  "kernelspec": {
   "display_name": "Python 3 (ipykernel)",
   "language": "python",
   "name": "python3"
  },
  "language_info": {
   "codemirror_mode": {
    "name": "ipython",
    "version": 3
   },
   "file_extension": ".py",
   "mimetype": "text/x-python",
   "name": "python",
   "nbconvert_exporter": "python",
   "pygments_lexer": "ipython3",
   "version": "3.8.11"
  }
 },
 "nbformat": 4,
 "nbformat_minor": 5
}
